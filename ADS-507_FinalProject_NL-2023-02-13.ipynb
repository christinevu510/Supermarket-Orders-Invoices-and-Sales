{
 "cells": [
  {
   "cell_type": "markdown",
   "id": "2540c9d1",
   "metadata": {},
   "source": [
    "# Supermarket Ordering, Invoicing, and Sales\n",
    "\n",
    "Joel Day, Nicholas Lee, and Christine Vu\n",
    "\n",
    "Shiley-Marcos School of Engineering, University of San Diego\n",
    "\n",
    "ADS 507: Practical Data Engineering\n",
    "\n",
    "Professor Jonathan Sixt\n",
    "\n",
    "February 8, 2023"
   ]
  },
  {
   "cell_type": "markdown",
   "id": "a4ddd353",
   "metadata": {},
   "source": [
    "***"
   ]
  },
  {
   "cell_type": "markdown",
   "metadata": {},
   "source": [
    "## Data Description"
   ]
  },
  {
   "cell_type": "markdown",
   "metadata": {},
   "source": [
    "### Invoices.csv"
   ]
  },
  {
   "cell_type": "markdown",
   "id": "99906f06",
   "metadata": {},
   "source": [
    "| Variable | Description  |\n",
    "| --- | --- |\n",
    "| Order Id | The order identification number |\n",
    "| Date | The date the order was placed |\n",
    "| Meal Id | The meal identification number |\n",
    "| Company Id | The company identification number |\n",
    "| Date of Meal | The date the meal was served |\n",
    "| Participants | The number of people who participated in the meal |\n",
    "| Meal Price | The cost of the meal |\n",
    "| Type of Meal | The type of meal that was ordered |"
   ]
  },
  {
   "cell_type": "markdown",
   "metadata": {},
   "source": [
    "### OrderLeads.csv"
   ]
  },
  {
   "cell_type": "markdown",
   "id": "99906f06",
   "metadata": {},
   "source": [
    "| Variable | Description  |\n",
    "| --- | --- |\n",
    "| Order Id | The order identification number |\n",
    "| Company Id | The company identification number |\n",
    "| Company Name | The name of the company associated with the order |\n",
    "| Date | The date the order was placed |\n",
    "| Order Value | The total value of the order |\n",
    "| Converted | Whether or not the order was converted into a sale |"
   ]
  },
  {
   "cell_type": "markdown",
   "metadata": {},
   "source": [
    "### SalesTeam.csv"
   ]
  },
  {
   "cell_type": "markdown",
   "id": "99906f06",
   "metadata": {},
   "source": [
    "| Variable | Description  |\n",
    "| --- | --- |\n",
    "| Sales Rep | The name of the sales representative |\n",
    "| Sales Rep Id | The sales representative identification number |\n",
    "| Company Name | The name of the company associated with the order |\n",
    "| Company Id | The company identification number |"
   ]
  },
  {
   "cell_type": "markdown",
   "id": "de343d32",
   "metadata": {},
   "source": [
    "***"
   ]
  },
  {
   "cell_type": "markdown",
   "id": "af0c1b94",
   "metadata": {},
   "source": [
    "## Data Importing and Pre-processing"
   ]
  },
  {
   "cell_type": "code",
   "execution_count": null,
   "metadata": {},
   "outputs": [],
   "source": [
    "# Packages\n",
    "import datetime as dt\n",
    "import numpy as np\n",
    "import pandas as pd\n",
    "import matplotlib.pyplot as plt\n",
    "import re\n",
    "\n",
    "import pymysql\n",
    "from sqlalchemy import create_engine\n",
    "import requests\n",
    "import io\n",
    "import os\n",
    "\n",
    "import warnings\n",
    "warnings.filterwarnings(\"ignore\")"
   ]
  },
  {
   "cell_type": "markdown",
   "metadata": {},
   "source": [
    "Import in CSV files"
   ]
  },
  {
   "cell_type": "code",
   "execution_count": null,
   "metadata": {},
   "outputs": [],
   "source": [
    "# Function to Pull Raw CSV from GitHub and Convert to Pandas Dataframe Object\n",
    "\n",
    "def github_to_pandas(raw_git_url):\n",
    "    # Pull Raw CSV File from GitHub\n",
    "    file_name = str(raw_git_url)\n",
    "    pull_file = requests.get(file_name).content\n",
    "\n",
    "    # Convert Raw CSV to Pandas Dataframe\n",
    "    csv_df = pd.read_csv(io.StringIO(pull_file.decode('utf-8')))\n",
    "\n",
    "    return csv_df"
   ]
  },
  {
   "cell_type": "code",
   "execution_count": null,
   "metadata": {},
   "outputs": [],
   "source": [
    "# Pull CSV files from GitHub and Convert to Pandas Dataframe\n",
    "invoice_df = github_to_pandas(\n",
    "    \"https://raw.githubusercontent.com/nlee98/ADS-507-Data-Engineering/main/Invoices.csv\")\n",
    "\n",
    "orderleads_df = github_to_pandas(\n",
    "    \"https://raw.githubusercontent.com/nlee98/ADS-507-Data-Engineering/main/OrderLeads.csv\")\n",
    "\n",
    "salesteam_df = github_to_pandas(\n",
    "    \"https://raw.githubusercontent.com/nlee98/ADS-507-Data-Engineering/main/SalesTeam.csv\")"
   ]
  },
  {
   "cell_type": "markdown",
   "metadata": {},
   "source": [
    "### Data Pre-processing"
   ]
  },
  {
   "cell_type": "code",
   "execution_count": null,
   "metadata": {
    "scrolled": false
   },
   "outputs": [],
   "source": [
    "# Find missing values\n",
    "print(\"- Invoice Missing Values:\\n\", invoice_df.isnull().sum())\n",
    "print(\"\\n- Order Leads Missing Values:\\n\", orderleads_df.isnull().sum())\n",
    "print(\"\\n- Sales Team Missing Values:\\n\", salesteam_df.isnull().sum())"
   ]
  },
  {
   "cell_type": "code",
   "execution_count": null,
   "metadata": {
    "scrolled": true
   },
   "outputs": [],
   "source": [
    "# Data types of all columns\n",
    "print(\"- Invoice Data Types:\\n\", invoice_df.dtypes)\n",
    "print(\"\\n- Order Leads Data Types:\\n\", orderleads_df.dtypes)\n",
    "print(\"\\n- Sales Team Data Types:\\n\", salesteam_df.dtypes)"
   ]
  },
  {
   "cell_type": "code",
   "execution_count": null,
   "metadata": {},
   "outputs": [],
   "source": [
    "# Duplicated data\n",
    "print(\"- Invoice Duplicated Values:\", invoice_df.duplicated().sum())\n",
    "print(\"- Order Leads Duplicated Values:\", orderleads_df.duplicated().sum())\n",
    "print(\"- Sales Team Duplicated Values:\", salesteam_df.duplicated().sum())"
   ]
  },
  {
   "cell_type": "markdown",
   "metadata": {},
   "source": [
    "***"
   ]
  },
  {
   "cell_type": "markdown",
   "metadata": {},
   "source": [
    "## Explore CSV Files"
   ]
  },
  {
   "cell_type": "markdown",
   "metadata": {},
   "source": [
    "### Invoice CSV"
   ]
  },
  {
   "cell_type": "code",
   "execution_count": null,
   "metadata": {},
   "outputs": [],
   "source": [
    "invoice_df.head(3)"
   ]
  },
  {
   "cell_type": "markdown",
   "metadata": {},
   "source": [
    "#### Transformations\n",
    "* Add Underscores to each column name\n",
    "* Transform Date and Date of Meal to date/datetime data types\n",
    "* Time of day column\n",
    "* Number of participants column"
   ]
  },
  {
   "cell_type": "code",
   "execution_count": null,
   "metadata": {},
   "outputs": [],
   "source": [
    "# Replace spaces with underscores in all dataframe column names\n",
    "invoice_df.columns = invoice_df.columns.str.replace(\" \", \"_\")\n",
    "orderleads_df.columns = orderleads_df.columns.str.replace(\" \", \"_\")\n",
    "salesteam_df.columns = salesteam_df.columns.str.replace(\" \", \"_\")"
   ]
  },
  {
   "cell_type": "code",
   "execution_count": null,
   "metadata": {},
   "outputs": [],
   "source": [
    "# Date to Date (\"d-m-Y\")\n",
    "invoice_df[\"Date\"] = pd.to_datetime(\n",
    "    invoice_df[\"Date\"], format='%d-%m-%Y')"
   ]
  },
  {
   "cell_type": "code",
   "execution_count": null,
   "metadata": {},
   "outputs": [],
   "source": [
    "# Drop \"+HH:MM:SS\" to make all uniform to UTC timezone\n",
    "invoice_df[\"Date_of_Meal\"] = invoice_df[\"Date_of_Meal\"].apply(\n",
    "    lambda x: x.split(\"+\")[0]\n",
    ")\n",
    "\n",
    "# Convert Date_of_Meal to Datetime format\n",
    "invoice_df[\"Date_of_Meal\"] = pd.to_datetime(\n",
    "    invoice_df[\"Date_of_Meal\"],\n",
    "    format = \"%Y-%m-%d %H:%M:%S\"\n",
    ")"
   ]
  },
  {
   "cell_type": "code",
   "execution_count": null,
   "metadata": {},
   "outputs": [],
   "source": [
    "# Convert Date_of_Meal to Datetime format\n",
    "invoice_df[\"Date_of_Meal\"] = pd.to_datetime(\n",
    "    invoice_df[\"Date_of_Meal\"],\n",
    "    format = \"%Y-%m-%d %H:%M:%S\"\n",
    ")"
   ]
  },
  {
   "cell_type": "code",
   "execution_count": null,
   "metadata": {},
   "outputs": [],
   "source": [
    "# Function defining hour of the day with the time of day\n",
    "def time_of_day(x):\n",
    "    day_hour = x.hour\n",
    "    if (day_hour >= 5) and (day_hour <= 8): # 5am - 8am\n",
    "        return \"Early Morning\"\n",
    "    elif (day_hour > 8) and (day_hour <= 12): # 9am - 12pm\n",
    "        return \"Late Morning\"\n",
    "    elif (day_hour > 12) and (day_hour <= 15): # 1pm - 3pm\n",
    "        return \"Early Afternoon\"\n",
    "    elif (day_hour > 15) and (day_hour <= 19): # 4pm - 7pm\n",
    "        return \"Evening\"\n",
    "    elif (day_hour > 19) and (day_hour <= 23): # 8pm - 11pm\n",
    "        return \"Night\"\n",
    "    else: # 12am - 4am\n",
    "        return \"Late Night\""
   ]
  },
  {
   "cell_type": "code",
   "execution_count": null,
   "metadata": {},
   "outputs": [],
   "source": [
    "# Apply time_of_day function to Date_of_Meal column\n",
    "invoice_df[\"Part_of_Day\"] = invoice_df[\"Date_of_Meal\"].apply(time_of_day)"
   ]
  },
  {
   "cell_type": "code",
   "execution_count": null,
   "metadata": {
    "scrolled": true
   },
   "outputs": [],
   "source": [
    "# Add a field to count the number of participants\n",
    "invoice_df['Number_of_Participants'] = invoice_df['Participants'].apply(lambda x: x.count(\"'\")/2)\n",
    "invoice_df['Number_of_Participants'] = invoice_df['Number_of_Participants'].astype(int)\n",
    "\n",
    "invoice_df.head(5)"
   ]
  },
  {
   "cell_type": "markdown",
   "metadata": {},
   "source": [
    "### Customer-Order Table\n",
    "Connect the customer id to each order id the customer placed. This table will link the customer information to the invoice information."
   ]
  },
  {
   "cell_type": "code",
   "execution_count": null,
   "metadata": {},
   "outputs": [],
   "source": [
    "# Find all the occurrences of customer names then explode to convert values in lists to rows\n",
    "cust = invoice_df['Participants'].str.findall(r\"'(.*?)'\").explode()\n",
    "\n",
    "# Join with order id \n",
    "cust_order_df = invoice_df[['Order_Id']].join(cust)\n",
    "\n",
    "# Factorize to encode the unique values in participants\n",
    "cust_order_df['Customer_Id'] = cust_order_df['Participants'].factorize()[0] + 1\n",
    "cust_order_df[\"Customer_Id\"] = cust_order_df[\"Customer_Id\"].astype(str)\n",
    "\n",
    "# Rename Participants Column\n",
    "\n",
    "cust_order_df.columns = [\"Order_Id\", \"Participant_Name\", \"Customer_Id\"]\n",
    "\n",
    "# Add Last Updated Date\n",
    "cust_order_df[\"Last_Updated\"] = dt.date.today()\n",
    "\n",
    "cust_order_df.head(9)"
   ]
  },
  {
   "cell_type": "markdown",
   "metadata": {},
   "source": [
    "### Order Leads CSV\n",
    "* Converted Column - Whether or not a order was converted into a sale"
   ]
  },
  {
   "cell_type": "code",
   "execution_count": null,
   "metadata": {},
   "outputs": [],
   "source": [
    "orderleads_df.head(3)"
   ]
  },
  {
   "cell_type": "code",
   "execution_count": null,
   "metadata": {},
   "outputs": [],
   "source": [
    "orderleads_df[\"Date\"] = pd.to_datetime(orderleads_df[\"Date\"])"
   ]
  },
  {
   "cell_type": "markdown",
   "metadata": {},
   "source": [
    "### Sales Team CSV"
   ]
  },
  {
   "cell_type": "code",
   "execution_count": null,
   "metadata": {},
   "outputs": [],
   "source": [
    "salesteam_df.head(3)"
   ]
  },
  {
   "cell_type": "markdown",
   "id": "de343d32",
   "metadata": {},
   "source": [
    "***"
   ]
  },
  {
   "cell_type": "markdown",
   "metadata": {},
   "source": [
    "## Connection to MySQL Server"
   ]
  },
  {
   "cell_type": "code",
   "execution_count": null,
   "metadata": {},
   "outputs": [],
   "source": [
    "# Manually Login to MySQL\n",
    "mysql_username = str(input(\"Enter MySQL Username: \"))\n",
    "mysql_password = str(input(\"Enter MySQL Password: \"))\n",
    "\n",
    "mysql_conn = pymysql.connect(\n",
    "    host = \"localhost\",\n",
    "    port = int(3306),\n",
    "    user = mysql_username,\n",
    "    passwd = mysql_password\n",
    ")"
   ]
  },
  {
   "cell_type": "markdown",
   "metadata": {},
   "source": [
    "### Create Supermarket Database\n",
    "* Tries to drop the database, if it previously existed\n",
    "    - Otherwise, creates the database"
   ]
  },
  {
   "cell_type": "code",
   "execution_count": null,
   "metadata": {},
   "outputs": [],
   "source": [
    "\n"
   ]
  },
  {
   "cell_type": "code",
   "execution_count": null,
   "metadata": {},
   "outputs": [],
   "source": [
    "# Create ADS-507_Supermarket MySQL Database\n",
    "## Drop the database to create an updated version if it exists\n",
    "try :\n",
    "    mysql_conn.cursor().execute(\n",
    "        \"\"\"\n",
    "        DROP DATABASE ADS_507_Supermarket;\n",
    "        \"\"\"\n",
    "    )\n",
    "    mysql_conn.cursor().execute(\n",
    "        \"\"\"\n",
    "        CREATE DATABASE IF NOT EXISTS ADS_507_Supermarket;\n",
    "        \"\"\"\n",
    "    )\n",
    "# Create the database if it has not done so before\n",
    "except: \n",
    "    mysql_conn.cursor().execute(\n",
    "        \"\"\"\n",
    "        CREATE DATABASE IF NOT EXISTS ADS_507_Supermarket;\n",
    "        \"\"\"\n",
    "    )\n",
    "\n",
    "# Navigate to Supermarket Database\n",
    "mysql_conn.select_db(\"ADS_507_Supermarket\")\n",
    "\n",
    "print(\"ADS-507 Supermarket Database Created\")"
   ]
  },
  {
   "cell_type": "code",
   "execution_count": null,
   "metadata": {},
   "outputs": [],
   "source": [
    "mysql_conn.cursor().execute('USE ADS_507_Supermarket')"
   ]
  },
  {
   "cell_type": "code",
   "execution_count": null,
   "metadata": {},
   "outputs": [],
   "source": [
    "mysql_conn.cursor().execute('SHOW TABLES')"
   ]
  },
  {
   "cell_type": "code",
   "execution_count": null,
   "metadata": {},
   "outputs": [],
   "source": []
  },
  {
   "cell_type": "code",
   "execution_count": null,
   "metadata": {},
   "outputs": [],
   "source": [
    "# Partition by the year for scalability\n",
    "create_invoice_table = \"\"\"\n",
    "CREATE TABLE IF NOT EXISTS invoice (\n",
    "    Order_Id VARCHAR(100) NOT NULL,\n",
    "    Date DATE NOT NULL,\n",
    "    Meal_Id VARCHAR(100) NOT NULL, \n",
    "    Company_Id VARCHAR(100) NOT NULL,\n",
    "    Date_of_Meal DATETIME NOT NULL,\n",
    "    Participants VARCHAR(255),\n",
    "    Meal_Price SMALLINT,\n",
    "    Type_of_Meal ENUM('Breakfast', 'Lunch', 'Dinner'),\n",
    "    Part_of_Day ENUM('Early Morning', 'Late Morning', 'Early Afternoon', 'Night', 'Late Night'),\n",
    "    Number_of_Participants TINYINT,\n",
    "    INDEX (Date),\n",
    "    INDEX (Order_Id)\n",
    ")\n",
    "PARTITION BY RANGE (YEAR(Date)) (\n",
    "    PARTITION invoice_2014 VALUES LESS THAN (2015),\n",
    "    PARTITION invoice_2015 VALUES LESS THAN (2016),\n",
    "    PARTITION invoice_2016 VALUES LESS THAN (2017),\n",
    "    PARTITION invoice_2017 VALUES LESS THAN (2018),\n",
    "    PARTITION invoice_2018 VALUES LESS THAN (MAXVALUE)\n",
    ")\n",
    ";\n",
    "\"\"\"\n",
    "\n",
    "mysql_conn.cursor().execute(create_invoice_table);\n",
    "print(\"Invoice Table Created\")"
   ]
  },
  {
   "cell_type": "code",
   "execution_count": null,
   "metadata": {},
   "outputs": [],
   "source": [
    "create_order_table = \"\"\"\n",
    "    CREATE TABLE IF NOT EXISTS orders(\n",
    "        Order_Id VARCHAR(100) NOT NULL,\n",
    "        Company_Id VARCHAR(100) NOT NULL,\n",
    "        Company_Name VARCHAR(255),\n",
    "        Date DATE,\n",
    "        Order_Value SMALLINT,\n",
    "        Converted TINYINT,\n",
    "        PRIMARY KEY (Order_Id, Company_Id),\n",
    "        INDEX (Company_Id),\n",
    "        INDEX (Order_Id)\n",
    "    )\n",
    ";\n",
    "\"\"\"\n",
    "\n",
    "mysql_conn.cursor().execute(create_order_table);\n",
    "print(\"Orders Table Created\")"
   ]
  },
  {
   "cell_type": "code",
   "execution_count": null,
   "metadata": {},
   "outputs": [],
   "source": [
    "# Foreign key added on company_id to link the salesteam to the orders table\n",
    "create_salesteam_table = \"\"\"\n",
    "    CREATE TABLE IF NOT EXISTS salesteam(\n",
    "        Sales_Rep VARCHAR(255),\n",
    "        Sales_Rep_Id VARCHAR(100),\n",
    "        Company_Name VARCHAR(255),\n",
    "        Company_Id VARCHAR(100),\n",
    "        FOREIGN KEY (Company_Id) REFERENCES orders(Company_Id),\n",
    "        INDEX (Sales_Rep),\n",
    "        INDEX (Company_Name)\n",
    "    )\n",
    "\"\"\"\n",
    "\n",
    "mysql_conn.cursor().execute(create_salesteam_table);\n",
    "print(\"Sales Table Created\")"
   ]
  },
  {
   "cell_type": "code",
   "execution_count": null,
   "metadata": {},
   "outputs": [],
   "source": [
    "create_customerorder_table = \"\"\"\n",
    "    CREATE TABLE IF NOT EXISTS customer_order(\n",
    "        Order_Id VARCHAR(100),\n",
    "        Participant_Name VARCHAR(255),\n",
    "        Customer_Id VARCHAR(255),\n",
    "        Last_Updated DATE,\n",
    "        FOREIGN KEY (Order_Id) REFERENCES orders(Order_Id),\n",
    "        INDEX (Participant_Name)\n",
    "    )\n",
    "\"\"\"\n",
    "\n",
    "mysql_conn.cursor().execute(create_customerorder_table);\n",
    "print(\"Customer_Order Table Created\")"
   ]
  },
  {
   "cell_type": "code",
   "execution_count": null,
   "metadata": {},
   "outputs": [],
   "source": [
    "# Create Engine to write to SQL table\n",
    "engine = create_engine(\n",
    "    \"mysql+pymysql://{user}:{pw}@{host}/{db}\".format(\n",
    "        host = \"localhost\", \n",
    "        db = \"ADS_507_Supermarket\", \n",
    "        user = mysql_username, \n",
    "        pw = mysql_password))"
   ]
  },
  {
   "cell_type": "code",
   "execution_count": null,
   "metadata": {},
   "outputs": [],
   "source": []
  },
  {
   "cell_type": "markdown",
   "metadata": {},
   "source": [
    "## Load Dataframes as Tables into MySQL\n",
    "* Invoice\n",
    "* Orders\n",
    "* Sales Lead\n",
    "* Customer (cust_order_df)"
   ]
  },
  {
   "cell_type": "code",
   "execution_count": null,
   "metadata": {},
   "outputs": [],
   "source": [
    "# Load invoice datafraome to SQL table\n",
    "for i, df_row in invoice_df.iterrows():\n",
    "    row_value = \"\"\"\n",
    "    INSERT INTO ADS_507_Supermarket.invoice VALUES (\n",
    "        %s, %s, %s, %s, %s,\n",
    "        %s, %s, %s, %s, %s)\n",
    "        \"\"\"\n",
    "    mysql_conn.cursor().execute(row_value, tuple(df_row))\n",
    "\n",
    "print(\"Successfully added data to invoice table\")"
   ]
  },
  {
   "cell_type": "code",
   "execution_count": null,
   "metadata": {},
   "outputs": [],
   "source": [
    "# Load orders datafraome to SQL table\n",
    "for i, df_row in orderleads_df.iterrows():\n",
    "    row_value = \"\"\"\n",
    "    INSERT INTO ADS_507_Supermarket.orders VALUES (\n",
    "        %s, %s, %s, %s, %s, %s)\n",
    "        \"\"\"\n",
    "    mysql_conn.cursor().execute(row_value, tuple(df_row))\n",
    "\n",
    "print(\"Successfully added data to orders table\")"
   ]
  },
  {
   "cell_type": "code",
   "execution_count": null,
   "metadata": {},
   "outputs": [],
   "source": [
    "# Load salesteam datafraome to SQL table\n",
    "for i, df_row in salesteam_df.iterrows():\n",
    "    row_value = \"\"\"\n",
    "    INSERT INTO ADS_507_Supermarket.salesteam VALUES (\n",
    "        %s, %s, %s, %s)\n",
    "        \"\"\"\n",
    "    mysql_conn.cursor().execute(row_value, tuple(df_row))\n",
    "\n",
    "print(\"Successfully added data to salesteam table\")"
   ]
  },
  {
   "cell_type": "code",
   "execution_count": null,
   "metadata": {},
   "outputs": [],
   "source": [
    "# Load customer_order datafraome to SQL table\n",
    "for i, df_row in cust_order_df.iterrows():\n",
    "    row_value = \"\"\"\n",
    "    INSERT INTO ADS_507_Supermarket.customer_order VALUES (\n",
    "        %s, %s, %s, %s)\n",
    "        \"\"\"\n",
    "    mysql_conn.cursor().execute(row_value, tuple(df_row))\n",
    "\n",
    "print(\"Successfully added data to customer_order table\")"
   ]
  },
  {
   "attachments": {},
   "cell_type": "markdown",
   "metadata": {},
   "source": [
    "### MySQL Transformations\n",
    "* Views\n",
    "    - Customer Stats - total number of orders by each customer, total amount each customer spent, and the average amount each spent\n",
    "    - Company Metrics - For each company, the total amount and average amount of each invoice monthly are shown for each meal (and displaying their respective meal). In addition, the year-to-date amount collected and yearly total are presented.\n",
    "    - Sales Rep Performance - Sales_Rep, Sales_Rep_Id, Company_Name, Company_Id, Profit_by_Sales_Rep\n",
    "    - Customer Purchases - Customer_Name, Part_of_Day, Company_Name, Number_of_Purchases, Total_Spent\n",
    "    - Converted Count: Total amount of converted sales by company\n",
    "    - Average Meal Price: Average meal price by type of meal\n",
    "    - Total Sales: Total sales by type of meal price for each year\n",
    "    - Highest Average Meal Price: Company and meal type with the highest average meal price\n",
    "    - Highest Breakfast: Companies with the highest average breakfast price\n",
    "    - Average Participants: Average amount of participants for each type of meal\n",
    "    - Difference Days: Difference in days between the date of meal and date the order was placed\n",
    "    - Profit: Difference between the order value and meal price\n",
    "    - Sales Rep More Than 500: Find the sales representatives who have not sold a meal that costs more than $500\n"
   ]
  },
  {
   "cell_type": "code",
   "execution_count": null,
   "metadata": {},
   "outputs": [],
   "source": [
    "customer_stats = \"\"\"\n",
    "    CREATE VIEW customer_stats\n",
    "        (customer_name, number_of_order, total_spent, average_spent)\n",
    "        AS\n",
    "        SELECT co.Participant_Name , COUNT(*), SUM(i.Meal_Price), AVG(i.Meal_Price)\n",
    "        FROM customer_order AS co\n",
    "            INNER JOIN invoice AS i\n",
    "                ON co.Order_Id = i.Order_Id\n",
    "        GROUP BY co.Participant_Name;\n",
    "\"\"\"\n",
    "\n",
    "mysql_conn.cursor().execute(customer_stats)\n",
    "print(\"customer_stats view created\")"
   ]
  },
  {
   "cell_type": "code",
   "execution_count": null,
   "metadata": {},
   "outputs": [],
   "source": [
    "pd.read_sql(\"SELECT * FROM customer_stats LIMIT 3;\", mysql_conn)"
   ]
  },
  {
   "cell_type": "code",
   "execution_count": null,
   "metadata": {},
   "outputs": [],
   "source": [
    "company_metrics = \"\"\"\n",
    "    CREATE VIEW company_metrics\n",
    "        (company_name, year, month, \n",
    "        meal_typ_sale, monthly_total,\n",
    "        monthly_average, number_of_sales, year_to_date, yearly_total)\n",
    "        AS\n",
    "        SELECT o.Company_Name, YEAR(i.Date) AS Year, MONTHNAME(i.Date) AS Month,\n",
    "            i.Type_of_Meal,\n",
    "            SUM(i.Meal_Price) AS Monthly_Total,\n",
    "            AVG(i.Meal_Price) AS Monthly_Average,\n",
    "            COUNT(*) AS Number_of_Sales,\n",
    "            SUM(SUM(i.Meal_Price))\n",
    "                OVER (PARTITION BY o.Company_Name, Year(i.Date)\n",
    "                        ORDER BY MONTH(STR_TO_DATE(month, '%M'))\n",
    "                        ROWS UNBOUNDED PRECEDING) AS Year_to_Date,\n",
    "            SUM(i.Meal_Price)\n",
    "                OVER (PARTITION BY o.Company_Name, YEAR(i.Date)) AS Yearly_Total\n",
    "        FROM orders AS o\n",
    "            INNER JOIN invoice AS i\n",
    "                ON o.Order_Id = i.Order_Id\n",
    "        GROUP BY 1, 2, 3\n",
    "        ORDER BY 1, 2, MONTH(STR_TO_DATE(month, '%M'))\n",
    "\"\"\"\n",
    "\n",
    "mysql_conn.cursor().execute(company_metrics)\n",
    "print(\"company_metrics view created\")"
   ]
  },
  {
   "cell_type": "code",
   "execution_count": null,
   "metadata": {},
   "outputs": [],
   "source": [
    "pd.read_sql(\"SELECT * FROM company_metrics LIMIT 3;\", mysql_conn)"
   ]
  },
  {
   "cell_type": "code",
   "execution_count": null,
   "metadata": {},
   "outputs": [],
   "source": [
    "sales_rep_performance = \"\"\"\n",
    "    CREATE VIEW sales_rep_performance\n",
    "        (Sales_Rep, Sales_Rep_Id, Company_Name,\n",
    "        Company_Id, Profit_by_Sales_Rep)\n",
    "        AS\n",
    "        SELECT s.Sales_Rep AS Sales_Rep, \n",
    "            s.Sales_Rep_Id AS Sales_Rep_Id,\n",
    "            s.Company_Name AS Company_Name,\n",
    "            s.Company_Id AS Company_Id,\n",
    "            SUM(i.Meal_Price) AS Profit_by_Sales_Rep\n",
    "        FROM salesteam AS s\n",
    "            INNER JOIN orders AS o\n",
    "                ON s.Company_Id = o.Company_Id\n",
    "            INNER JOIN invoice AS i\n",
    "                ON o.Order_Id = i.Order_Id\n",
    "        GROUP BY s.Sales_Rep, s.Company_Name\n",
    "\"\"\"\n",
    "\n",
    "mysql_conn.cursor().execute(sales_rep_performance)\n",
    "print(\"sales_rep_performance view created\")"
   ]
  },
  {
   "cell_type": "code",
   "execution_count": null,
   "metadata": {},
   "outputs": [],
   "source": [
    "pd.read_sql(\"SELECT * FROM sales_rep_performance LIMIT 3;\", mysql_conn)"
   ]
  },
  {
   "cell_type": "code",
   "execution_count": null,
   "metadata": {},
   "outputs": [],
   "source": [
    "customer_purchases = \"\"\"\n",
    "    CREATE VIEW customer_purchases\n",
    "        (Customer_Name, Part_of_Day, Company_Name,\n",
    "        Number_of_Purchases, Total_Spent)\n",
    "        AS\n",
    "        SELECT c.Participant_Name, i.Part_of_Day,\n",
    "            s.Company_Name, COUNT(i.Order_Id) AS Num_Purchases,\n",
    "            SUM(i.Meal_Price) AS Meal_Price\n",
    "        FROM invoice AS i\n",
    "            INNER JOIN customer_order AS c\n",
    "                ON i.Order_Id = c.Order_Id\n",
    "            INNER JOIN salesteam AS s\n",
    "                ON s.Company_Id = i.Company_Id\n",
    "        GROUP BY 1,2\n",
    "\"\"\"\n",
    "\n",
    "mysql_conn.cursor().execute(customer_purchases)\n",
    "print(\"customer_purchases view created\")"
   ]
  },
  {
   "cell_type": "code",
   "execution_count": null,
   "metadata": {},
   "outputs": [],
   "source": [
    "pd.read_sql(\"SELECT * FROM customer_purchases LIMIT 3;\", mysql_conn)"
   ]
  },
  {
   "cell_type": "code",
   "execution_count": null,
   "metadata": {},
   "outputs": [],
   "source": [
    "test_query = \"\"\"\n",
    "    SELECT *\n",
    "    FROM company_metrics\n",
    "    LIMIT 5;\n",
    "\"\"\"\n",
    "\n",
    "pd.read_sql(test_query, mysql_conn)"
   ]
  },
  {
   "cell_type": "code",
   "execution_count": null,
   "metadata": {},
   "outputs": [],
   "source": [
    "test_query = \"\"\"\n",
    "    show tables;\n",
    "\"\"\"\n",
    "\n",
    "pd.read_sql(test_query, mysql_conn)"
   ]
  },
  {
   "cell_type": "code",
   "execution_count": null,
   "metadata": {},
   "outputs": [],
   "source": [
    "sales_by_year = \"\"\"\n",
    "    CREATE VIEW sales_by_year\n",
    "        AS\n",
    "    SELECT DISTINCT EXTRACT(YEAR FROM Date) Year, COUNT(*) Total_Invoices \n",
    "    FROM invoice \n",
    "    GROUP BY Year;\n",
    "\"\"\"\n",
    "mysql_conn.cursor().execute(sales_by_year)\n",
    "#pd.read_sql(sales_by_year, mysql_conn)"
   ]
  },
  {
   "cell_type": "code",
   "execution_count": null,
   "metadata": {},
   "outputs": [],
   "source": [
    "test_query = \"\"\"\n",
    "    SELECT *\n",
    "    FROM sales_by_year\n",
    "    LIMIT 5;\n",
    "\"\"\"\n",
    "\n",
    "pd.read_sql(test_query, mysql_conn)"
   ]
  },
  {
   "cell_type": "code",
   "execution_count": null,
   "metadata": {},
   "outputs": [],
   "source": [
    "total_percent_converted = \"\"\"\n",
    "    CREATE VIEW total_percent_converted\n",
    "        AS\n",
    "    SELECT Converted, Count(*)  \n",
    "    FROM orders \n",
    "    GROUP BY Converted;\n",
    "\"\"\"\n",
    "mysql_conn.cursor().execute(total_percent_converted)\n",
    "#pd.read_sql(sales_by_year, mysql_conn)"
   ]
  },
  {
   "cell_type": "code",
   "execution_count": null,
   "metadata": {},
   "outputs": [],
   "source": [
    "test_query = \"\"\"\n",
    "    SELECT *\n",
    "    FROM total_percent_converted\n",
    "    LIMIT 5;\n",
    "\"\"\"\n",
    "\n",
    "pd.read_sql(test_query, mysql_conn)"
   ]
  },
  {
   "cell_type": "code",
   "execution_count": null,
   "metadata": {},
   "outputs": [],
   "source": [
    "percent_converted = \"\"\"\n",
    "    CREATE VIEW percent_converted\n",
    "        AS\n",
    "    SELECT Company_Name, ROUND(((SUM(Converted)/Count(*))*100), 1) Percent_Converted \n",
    "    FROM orders \n",
    "    GROUP BY Company_Name;\n",
    "\"\"\"\n",
    "mysql_conn.cursor().execute(percent_converted)\n",
    "#pd.read_sql(sales_by_year, mysql_conn)"
   ]
  },
  {
   "cell_type": "code",
   "execution_count": null,
   "metadata": {},
   "outputs": [],
   "source": [
    "test_query = \"\"\"\n",
    "    SELECT *\n",
    "    FROM percent_converted\n",
    "    ORDER BY Percent_Converted DESC;\n",
    "\"\"\"\n",
    "\n",
    "pd.read_sql(test_query, mysql_conn)"
   ]
  },
  {
   "cell_type": "code",
   "execution_count": null,
   "metadata": {},
   "outputs": [],
   "source": [
    "# converted_count: Total amount of converted sales by company\n",
    "\n",
    "converted_count = \"\"\"CREATE VIEW converted_count AS\n",
    "                        SELECT Company_Name, SUM(Converted) AS Converted_Total\n",
    "                        FROM orders \n",
    "                        GROUP BY Company_Name;\"\"\"\n",
    "                        \n",
    "mysql_conn.cursor().execute(converted_count)\n",
    "\n",
    "test_query = \"\"\"SELECT * FROM converted_count;\"\"\"\n",
    "\n",
    "pd.read_sql(test_query, mysql_conn)"
   ]
  },
  {
   "cell_type": "code",
   "execution_count": null,
   "metadata": {},
   "outputs": [],
   "source": [
    "# avg_meal_price: Average meal price\n",
    "\n",
    "avg_meal_price = \"\"\"CREATE VIEW avg_meal_price AS\n",
    "                    SELECT Type_of_Meal, AVG(Meal_Price) as Average_Meal_Price\n",
    "                    FROM invoice\n",
    "                    GROUP BY Type_of_Meal;\"\"\"\n",
    "                        \n",
    "mysql_conn.cursor().execute(avg_meal_price)\n",
    "\n",
    "test_query = \"\"\"SELECT * FROM avg_meal_price\n",
    "                ORDER BY Average_Meal_Price DESC;\"\"\"\n",
    "\n",
    "pd.read_sql(test_query, mysql_conn)"
   ]
  },
  {
   "cell_type": "code",
   "execution_count": null,
   "metadata": {},
   "outputs": [],
   "source": [
    "# total_sales: Total sales by type of meal price by year\n",
    "\n",
    "total_sales = \"\"\"CREATE VIEW total_sales AS\n",
    "                    SELECT EXTRACT(YEAR FROM Date) AS Year, Type_of_Meal, SUM(Meal_Price) as Total_Sales \n",
    "                    FROM invoice\n",
    "                    GROUP BY Year, Type_of_Meal \n",
    "                    ORDER BY Year ASC, Total_Sales DESC;\"\"\"\n",
    "                        \n",
    "mysql_conn.cursor().execute(total_sales)\n",
    "\n",
    "test_query = \"\"\"SELECT * FROM total_sales;\"\"\"\n",
    "\n",
    "pd.read_sql(test_query, mysql_conn)"
   ]
  },
  {
   "cell_type": "code",
   "execution_count": null,
   "metadata": {},
   "outputs": [],
   "source": [
    "# highest_avg_meal_price: Company and meal type with the highest average meal price\n",
    "\n",
    "highest_avg_meal_price = \"\"\"CREATE VIEW highest_avg_meal_price AS\n",
    "                            SELECT Type_of_Meal, Company_Id, MAX(JSON_LENGTH(Participants, 1)) as Maximum_Participants  \n",
    "                            FROM invoice\n",
    "                            GROUP BY Type_of_Meal, Company_Id;\"\"\"\n",
    "                        \n",
    "mysql_conn.cursor().execute(highest_avg_meal_price)\n",
    "\n",
    "test_query = \"\"\"SELECT * FROM highest_avg_meal_price;\"\"\"\n",
    "\n",
    "pd.read_sql(test_query, mysql_conn)"
   ]
  },
  {
   "cell_type": "code",
   "execution_count": null,
   "metadata": {},
   "outputs": [],
   "source": [
    "# highest_breakfast: Companies with the highest average breakfast price\n",
    "\n",
    "highest_breakfast = \"\"\"CREATE VIEW highest_breakfast AS\n",
    "                        SELECT Company_Id, AVG(Meal_Price) as Average_Breakfast_Price\n",
    "                        FROM invoice\n",
    "                        WHERE Type_of_Meal = 'Breakfast' \n",
    "                        GROUP BY Company_Id\n",
    "                        ORDER BY Average_Breakfast_Price DESC;\"\"\"\n",
    "                        \n",
    "mysql_conn.cursor().execute(highest_breakfast)\n",
    "\n",
    "test_query = \"\"\"SELECT * FROM highest_breakfast;\"\"\"\n",
    "\n",
    "pd.read_sql(test_query, mysql_conn)"
   ]
  },
  {
   "cell_type": "code",
   "execution_count": null,
   "metadata": {},
   "outputs": [],
   "source": [
    "# avg_participants: Average amount of participants for each type of meal\n",
    "\n",
    "avg_participants = \"\"\"CREATE VIEW avg_participants AS\n",
    "                        SELECT Type_of_Meal, AVG(JSON_LENGTH(Participants)) as Average_Participants_Per_Meal\n",
    "                        FROM invoice\n",
    "                        GROUP BY Type_of_Meal\"\"\"\n",
    "                        \n",
    "mysql_conn.cursor().execute(avg_participants)\n",
    "\n",
    "test_query = \"\"\"SELECT * FROM avg_participants;\"\"\"\n",
    "\n",
    "pd.read_sql(test_query, mysql_conn)"
   ]
  },
  {
   "cell_type": "code",
   "execution_count": null,
   "metadata": {},
   "outputs": [],
   "source": [
    "# difference_days: Difference in days between Date_of_Meal and Date\n",
    "\n",
    "difference_days = \"\"\"CREATE VIEW difference_days AS\n",
    "                        SELECT Date, Date_of_Meal, DATEDIFF(Date_of_Meal, Date) AS Days_Between\n",
    "                        FROM invoice;\"\"\"\n",
    "                        \n",
    "mysql_conn.cursor().execute(difference_days)\n",
    "\n",
    "test_query = \"\"\"SELECT * FROM difference_days;\"\"\"\n",
    "\n",
    "pd.read_sql(test_query, mysql_conn)"
   ]
  },
  {
   "cell_type": "code",
   "execution_count": 315,
   "metadata": {},
   "outputs": [
    {
     "ename": "OperationalError",
     "evalue": "(1050, \"Table 'salesrep_morethan10' already exists\")",
     "output_type": "error",
     "traceback": [
      "\u001b[1;31m---------------------------------------------------------------------------\u001b[0m",
      "\u001b[1;31mOperationalError\u001b[0m                          Traceback (most recent call last)",
      "Cell \u001b[1;32mIn[315], line 10\u001b[0m\n\u001b[0;32m      1\u001b[0m \u001b[39m# salesrep_morethan10: Find the sales representatives who have not sold a meal that costs more than $10\u001b[39;00m\n\u001b[0;32m      3\u001b[0m salesrep_morethan10 \u001b[39m=\u001b[39m \u001b[39m\"\"\"\u001b[39m\u001b[39mCREATE VIEW salesrep_morethan10 AS\u001b[39m\n\u001b[0;32m      4\u001b[0m \u001b[39m                            SELECT DISTINCT st.Sales_Rep\u001b[39m\n\u001b[0;32m      5\u001b[0m \u001b[39m                            FROM salesteam st\u001b[39m\n\u001b[0;32m      6\u001b[0m \u001b[39m                            WHERE NOT EXISTS (\u001b[39m\n\u001b[0;32m      7\u001b[0m \u001b[39m                                SELECT 1 FROM invoice i\u001b[39m\n\u001b[0;32m      8\u001b[0m \u001b[39m                                WHERE i.Meal_Price > 100 AND i.Company_Id = st.Company_Id);\u001b[39m\u001b[39m\"\"\"\u001b[39m\n\u001b[1;32m---> 10\u001b[0m mysql_conn\u001b[39m.\u001b[39;49mcursor()\u001b[39m.\u001b[39;49mexecute(salesrep_morethan10)\n\u001b[0;32m     12\u001b[0m test_query \u001b[39m=\u001b[39m \u001b[39m\"\"\"\u001b[39m\u001b[39mSELECT * FROM salesrep_morethan10;\u001b[39m\u001b[39m\"\"\"\u001b[39m\n\u001b[0;32m     14\u001b[0m pd\u001b[39m.\u001b[39mread_sql(test_query, mysql_conn)\n",
      "File \u001b[1;32m~\\AppData\\Local\\Packages\\PythonSoftwareFoundation.Python.3.10_qbz5n2kfra8p0\\LocalCache\\local-packages\\Python310\\site-packages\\pymysql\\cursors.py:148\u001b[0m, in \u001b[0;36mCursor.execute\u001b[1;34m(self, query, args)\u001b[0m\n\u001b[0;32m    144\u001b[0m     \u001b[39mpass\u001b[39;00m\n\u001b[0;32m    146\u001b[0m query \u001b[39m=\u001b[39m \u001b[39mself\u001b[39m\u001b[39m.\u001b[39mmogrify(query, args)\n\u001b[1;32m--> 148\u001b[0m result \u001b[39m=\u001b[39m \u001b[39mself\u001b[39;49m\u001b[39m.\u001b[39;49m_query(query)\n\u001b[0;32m    149\u001b[0m \u001b[39mself\u001b[39m\u001b[39m.\u001b[39m_executed \u001b[39m=\u001b[39m query\n\u001b[0;32m    150\u001b[0m \u001b[39mreturn\u001b[39;00m result\n",
      "File \u001b[1;32m~\\AppData\\Local\\Packages\\PythonSoftwareFoundation.Python.3.10_qbz5n2kfra8p0\\LocalCache\\local-packages\\Python310\\site-packages\\pymysql\\cursors.py:310\u001b[0m, in \u001b[0;36mCursor._query\u001b[1;34m(self, q)\u001b[0m\n\u001b[0;32m    308\u001b[0m \u001b[39mself\u001b[39m\u001b[39m.\u001b[39m_last_executed \u001b[39m=\u001b[39m q\n\u001b[0;32m    309\u001b[0m \u001b[39mself\u001b[39m\u001b[39m.\u001b[39m_clear_result()\n\u001b[1;32m--> 310\u001b[0m conn\u001b[39m.\u001b[39;49mquery(q)\n\u001b[0;32m    311\u001b[0m \u001b[39mself\u001b[39m\u001b[39m.\u001b[39m_do_get_result()\n\u001b[0;32m    312\u001b[0m \u001b[39mreturn\u001b[39;00m \u001b[39mself\u001b[39m\u001b[39m.\u001b[39mrowcount\n",
      "File \u001b[1;32m~\\AppData\\Local\\Packages\\PythonSoftwareFoundation.Python.3.10_qbz5n2kfra8p0\\LocalCache\\local-packages\\Python310\\site-packages\\pymysql\\connections.py:548\u001b[0m, in \u001b[0;36mConnection.query\u001b[1;34m(self, sql, unbuffered)\u001b[0m\n\u001b[0;32m    546\u001b[0m     sql \u001b[39m=\u001b[39m sql\u001b[39m.\u001b[39mencode(\u001b[39mself\u001b[39m\u001b[39m.\u001b[39mencoding, \u001b[39m\"\u001b[39m\u001b[39msurrogateescape\u001b[39m\u001b[39m\"\u001b[39m)\n\u001b[0;32m    547\u001b[0m \u001b[39mself\u001b[39m\u001b[39m.\u001b[39m_execute_command(COMMAND\u001b[39m.\u001b[39mCOM_QUERY, sql)\n\u001b[1;32m--> 548\u001b[0m \u001b[39mself\u001b[39m\u001b[39m.\u001b[39m_affected_rows \u001b[39m=\u001b[39m \u001b[39mself\u001b[39;49m\u001b[39m.\u001b[39;49m_read_query_result(unbuffered\u001b[39m=\u001b[39;49munbuffered)\n\u001b[0;32m    549\u001b[0m \u001b[39mreturn\u001b[39;00m \u001b[39mself\u001b[39m\u001b[39m.\u001b[39m_affected_rows\n",
      "File \u001b[1;32m~\\AppData\\Local\\Packages\\PythonSoftwareFoundation.Python.3.10_qbz5n2kfra8p0\\LocalCache\\local-packages\\Python310\\site-packages\\pymysql\\connections.py:775\u001b[0m, in \u001b[0;36mConnection._read_query_result\u001b[1;34m(self, unbuffered)\u001b[0m\n\u001b[0;32m    773\u001b[0m \u001b[39melse\u001b[39;00m:\n\u001b[0;32m    774\u001b[0m     result \u001b[39m=\u001b[39m MySQLResult(\u001b[39mself\u001b[39m)\n\u001b[1;32m--> 775\u001b[0m     result\u001b[39m.\u001b[39;49mread()\n\u001b[0;32m    776\u001b[0m \u001b[39mself\u001b[39m\u001b[39m.\u001b[39m_result \u001b[39m=\u001b[39m result\n\u001b[0;32m    777\u001b[0m \u001b[39mif\u001b[39;00m result\u001b[39m.\u001b[39mserver_status \u001b[39mis\u001b[39;00m \u001b[39mnot\u001b[39;00m \u001b[39mNone\u001b[39;00m:\n",
      "File \u001b[1;32m~\\AppData\\Local\\Packages\\PythonSoftwareFoundation.Python.3.10_qbz5n2kfra8p0\\LocalCache\\local-packages\\Python310\\site-packages\\pymysql\\connections.py:1156\u001b[0m, in \u001b[0;36mMySQLResult.read\u001b[1;34m(self)\u001b[0m\n\u001b[0;32m   1154\u001b[0m \u001b[39mdef\u001b[39;00m \u001b[39mread\u001b[39m(\u001b[39mself\u001b[39m):\n\u001b[0;32m   1155\u001b[0m     \u001b[39mtry\u001b[39;00m:\n\u001b[1;32m-> 1156\u001b[0m         first_packet \u001b[39m=\u001b[39m \u001b[39mself\u001b[39;49m\u001b[39m.\u001b[39;49mconnection\u001b[39m.\u001b[39;49m_read_packet()\n\u001b[0;32m   1158\u001b[0m         \u001b[39mif\u001b[39;00m first_packet\u001b[39m.\u001b[39mis_ok_packet():\n\u001b[0;32m   1159\u001b[0m             \u001b[39mself\u001b[39m\u001b[39m.\u001b[39m_read_ok_packet(first_packet)\n",
      "File \u001b[1;32m~\\AppData\\Local\\Packages\\PythonSoftwareFoundation.Python.3.10_qbz5n2kfra8p0\\LocalCache\\local-packages\\Python310\\site-packages\\pymysql\\connections.py:725\u001b[0m, in \u001b[0;36mConnection._read_packet\u001b[1;34m(self, packet_type)\u001b[0m\n\u001b[0;32m    723\u001b[0m     \u001b[39mif\u001b[39;00m \u001b[39mself\u001b[39m\u001b[39m.\u001b[39m_result \u001b[39mis\u001b[39;00m \u001b[39mnot\u001b[39;00m \u001b[39mNone\u001b[39;00m \u001b[39mand\u001b[39;00m \u001b[39mself\u001b[39m\u001b[39m.\u001b[39m_result\u001b[39m.\u001b[39munbuffered_active \u001b[39mis\u001b[39;00m \u001b[39mTrue\u001b[39;00m:\n\u001b[0;32m    724\u001b[0m         \u001b[39mself\u001b[39m\u001b[39m.\u001b[39m_result\u001b[39m.\u001b[39munbuffered_active \u001b[39m=\u001b[39m \u001b[39mFalse\u001b[39;00m\n\u001b[1;32m--> 725\u001b[0m     packet\u001b[39m.\u001b[39;49mraise_for_error()\n\u001b[0;32m    726\u001b[0m \u001b[39mreturn\u001b[39;00m packet\n",
      "File \u001b[1;32m~\\AppData\\Local\\Packages\\PythonSoftwareFoundation.Python.3.10_qbz5n2kfra8p0\\LocalCache\\local-packages\\Python310\\site-packages\\pymysql\\protocol.py:221\u001b[0m, in \u001b[0;36mMysqlPacket.raise_for_error\u001b[1;34m(self)\u001b[0m\n\u001b[0;32m    219\u001b[0m \u001b[39mif\u001b[39;00m DEBUG:\n\u001b[0;32m    220\u001b[0m     \u001b[39mprint\u001b[39m(\u001b[39m\"\u001b[39m\u001b[39merrno =\u001b[39m\u001b[39m\"\u001b[39m, errno)\n\u001b[1;32m--> 221\u001b[0m err\u001b[39m.\u001b[39;49mraise_mysql_exception(\u001b[39mself\u001b[39;49m\u001b[39m.\u001b[39;49m_data)\n",
      "File \u001b[1;32m~\\AppData\\Local\\Packages\\PythonSoftwareFoundation.Python.3.10_qbz5n2kfra8p0\\LocalCache\\local-packages\\Python310\\site-packages\\pymysql\\err.py:143\u001b[0m, in \u001b[0;36mraise_mysql_exception\u001b[1;34m(data)\u001b[0m\n\u001b[0;32m    141\u001b[0m \u001b[39mif\u001b[39;00m errorclass \u001b[39mis\u001b[39;00m \u001b[39mNone\u001b[39;00m:\n\u001b[0;32m    142\u001b[0m     errorclass \u001b[39m=\u001b[39m InternalError \u001b[39mif\u001b[39;00m errno \u001b[39m<\u001b[39m \u001b[39m1000\u001b[39m \u001b[39melse\u001b[39;00m OperationalError\n\u001b[1;32m--> 143\u001b[0m \u001b[39mraise\u001b[39;00m errorclass(errno, errval)\n",
      "\u001b[1;31mOperationalError\u001b[0m: (1050, \"Table 'salesrep_morethan10' already exists\")"
     ]
    }
   ],
   "source": [
    "# salesrep_morethan10: Find the sales representatives who have not sold a meal that costs more than $10\n",
    "\n",
    "salesrep_morethan10 = \"\"\"CREATE VIEW salesrep_morethan10 AS\n",
    "                            SELECT DISTINCT st.Sales_Rep\n",
    "                            FROM salesteam st\n",
    "                            WHERE NOT EXISTS (\n",
    "                                SELECT 1 FROM invoice i\n",
    "                                WHERE i.Meal_Price > 100 AND i.Company_Id = st.Company_Id);\"\"\"\n",
    "                        \n",
    "mysql_conn.cursor().execute(salesrep_morethan10)\n",
    "\n",
    "test_query = \"\"\"SELECT * FROM salesrep_morethan10;\"\"\"\n",
    "\n",
    "pd.read_sql(test_query, mysql_conn)"
   ]
  },
  {
   "cell_type": "code",
   "execution_count": 321,
   "metadata": {},
   "outputs": [
    {
     "data": {
      "text/html": [
       "<div>\n",
       "<style scoped>\n",
       "    .dataframe tbody tr th:only-of-type {\n",
       "        vertical-align: middle;\n",
       "    }\n",
       "\n",
       "    .dataframe tbody tr th {\n",
       "        vertical-align: top;\n",
       "    }\n",
       "\n",
       "    .dataframe thead th {\n",
       "        text-align: right;\n",
       "    }\n",
       "</style>\n",
       "<table border=\"1\" class=\"dataframe\">\n",
       "  <thead>\n",
       "    <tr style=\"text-align: right;\">\n",
       "      <th></th>\n",
       "      <th>Sales_Rep</th>\n",
       "    </tr>\n",
       "  </thead>\n",
       "  <tbody>\n",
       "    <tr>\n",
       "      <th>0</th>\n",
       "      <td>Lois Bowers</td>\n",
       "    </tr>\n",
       "    <tr>\n",
       "      <th>1</th>\n",
       "      <td>Latesha Tessitore</td>\n",
       "    </tr>\n",
       "    <tr>\n",
       "      <th>2</th>\n",
       "      <td>Billy Breece</td>\n",
       "    </tr>\n",
       "    <tr>\n",
       "      <th>3</th>\n",
       "      <td>Derek Walters</td>\n",
       "    </tr>\n",
       "    <tr>\n",
       "      <th>4</th>\n",
       "      <td>Alexandra Martino</td>\n",
       "    </tr>\n",
       "    <tr>\n",
       "      <th>...</th>\n",
       "      <td>...</td>\n",
       "    </tr>\n",
       "    <tr>\n",
       "      <th>71</th>\n",
       "      <td>Richard Swinford</td>\n",
       "    </tr>\n",
       "    <tr>\n",
       "      <th>72</th>\n",
       "      <td>Teresa Bilger</td>\n",
       "    </tr>\n",
       "    <tr>\n",
       "      <th>73</th>\n",
       "      <td>Dan Saez</td>\n",
       "    </tr>\n",
       "    <tr>\n",
       "      <th>74</th>\n",
       "      <td>Linda Carroll</td>\n",
       "    </tr>\n",
       "    <tr>\n",
       "      <th>75</th>\n",
       "      <td>Nettie Rollins</td>\n",
       "    </tr>\n",
       "  </tbody>\n",
       "</table>\n",
       "<p>76 rows × 1 columns</p>\n",
       "</div>"
      ],
      "text/plain": [
       "            Sales_Rep\n",
       "0         Lois Bowers\n",
       "1   Latesha Tessitore\n",
       "2        Billy Breece\n",
       "3       Derek Walters\n",
       "4   Alexandra Martino\n",
       "..                ...\n",
       "71   Richard Swinford\n",
       "72      Teresa Bilger\n",
       "73           Dan Saez\n",
       "74      Linda Carroll\n",
       "75     Nettie Rollins\n",
       "\n",
       "[76 rows x 1 columns]"
      ]
     },
     "execution_count": 321,
     "metadata": {},
     "output_type": "execute_result"
    }
   ],
   "source": [
    "# salesrep_morethan500: Find the sales representatives who have not sold a meal that costs more than $500\n",
    "\n",
    "salesrep_morethan500 = \"\"\"CREATE VIEW salesrep_morethan500 AS\n",
    "                            SELECT DISTINCT st.Sales_Rep\n",
    "                            FROM salesteam st\n",
    "                            WHERE NOT EXISTS (\n",
    "                                SELECT 1 FROM invoice i\n",
    "                                WHERE i.Meal_Price > 500 AND i.Company_Id = st.Company_Id);\"\"\"\n",
    "                        \n",
    "mysql_conn.cursor().execute(salesrep_morethan500)\n",
    "\n",
    "test_query = \"\"\"SELECT * FROM salesrep_morethan500;\"\"\"\n",
    "\n",
    "pd.read_sql(test_query, mysql_conn)"
   ]
  }
 ],
 "metadata": {
  "kernelspec": {
   "display_name": "Python 3",
   "language": "python",
   "name": "python3"
  },
  "language_info": {
   "codemirror_mode": {
    "name": "ipython",
    "version": 3
   },
   "file_extension": ".py",
   "mimetype": "text/x-python",
   "name": "python",
   "nbconvert_exporter": "python",
   "pygments_lexer": "ipython3",
   "version": "3.10.10"
  },
  "vscode": {
   "interpreter": {
    "hash": "c68636a1e49bf3485adde1c0d609ef5e395c0403b8d075633af773dedef405cd"
   }
  }
 },
 "nbformat": 4,
 "nbformat_minor": 2
}
