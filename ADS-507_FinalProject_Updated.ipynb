{
 "cells": [
  {
   "cell_type": "markdown",
   "id": "2540c9d1",
   "metadata": {},
   "source": [
    "# Supermarket Ordering, Invoicing, and Sales\n",
    "\n",
    "Joel Day, Nicholas Lee, and Christine Vu\n",
    "\n",
    "Shiley-Marcos School of Engineering, University of San Diego\n",
    "\n",
    "ADS 507: Practical Data Engineering\n",
    "\n",
    "Professor Jonathan Sixt\n",
    "\n",
    "February 8, 2023"
   ]
  },
  {
   "cell_type": "markdown",
   "id": "a4ddd353",
   "metadata": {},
   "source": [
    "***"
   ]
  },
  {
   "cell_type": "markdown",
   "metadata": {},
   "source": [
    "## Data Description"
   ]
  },
  {
   "cell_type": "markdown",
   "metadata": {},
   "source": [
    "### Invoices.csv"
   ]
  },
  {
   "cell_type": "markdown",
   "id": "99906f06",
   "metadata": {},
   "source": [
    "| Variable | Description  |\n",
    "| --- | --- |\n",
    "| Order Id | The order identification number |\n",
    "| Date | The date the order was placed |\n",
    "| Meal Id | The meal identification number |\n",
    "| Company Id | The company identification number |\n",
    "| Date of Meal | The date the meal was served |\n",
    "| Participants | The number of people who participated in the meal |\n",
    "| Meal Price | The cost of the meal |\n",
    "| Type of Meal | The type of meal that was ordered |"
   ]
  },
  {
   "cell_type": "markdown",
   "metadata": {},
   "source": [
    "### OrderLeads.csv"
   ]
  },
  {
   "cell_type": "markdown",
   "id": "99906f06",
   "metadata": {},
   "source": [
    "| Variable | Description  |\n",
    "| --- | --- |\n",
    "| Order Id | The order identification number |\n",
    "| Company Id | The company identification number |\n",
    "| Company Name | The name of the company associated with the order |\n",
    "| Date | The date the order was placed |\n",
    "| Order Value | The total value of the order |\n",
    "| Converted | Whether or not the order was converted into a sale |"
   ]
  },
  {
   "cell_type": "markdown",
   "metadata": {},
   "source": [
    "### SalesTeam.csv"
   ]
  },
  {
   "cell_type": "markdown",
   "id": "99906f06",
   "metadata": {},
   "source": [
    "| Variable | Description  |\n",
    "| --- | --- |\n",
    "| Sales Rep | The name of the sales representative |\n",
    "| Sales Rep Id | The sales representative identification number |\n",
    "| Company Name | The name of the company associated with the order |\n",
    "| Company Id | The company identification number |"
   ]
  },
  {
   "cell_type": "markdown",
   "id": "de343d32",
   "metadata": {},
   "source": [
    "***"
   ]
  },
  {
   "cell_type": "markdown",
   "id": "af0c1b94",
   "metadata": {},
   "source": [
    "## Data Importing and Pre-processing"
   ]
  },
  {
   "cell_type": "code",
   "execution_count": 44,
   "metadata": {},
   "outputs": [],
   "source": [
    "# Packages\n",
    "\n",
    "import numpy as np\n",
    "import pandas as pd\n",
    "import matplotlib.pyplot as plt\n",
    "import re\n",
    "\n",
    "import pymysql\n",
    "from sqlalchemy import create_engine\n",
    "import requests\n",
    "import io\n",
    "import os\n",
    "\n",
    "import warnings\n",
    "warnings.filterwarnings(\"ignore\")"
   ]
  },
  {
   "cell_type": "markdown",
   "metadata": {},
   "source": [
    "Import in CSV files"
   ]
  },
  {
   "cell_type": "code",
   "execution_count": 2,
   "metadata": {},
   "outputs": [],
   "source": [
    "# Function to Pull Raw CSV from GitHub and Convert to Pandas Dataframe Object\n",
    "\n",
    "def github_to_pandas(raw_git_url):\n",
    "    # Pull Raw CSV File from GitHub\n",
    "    file_name = str(raw_git_url)\n",
    "    pull_file = requests.get(file_name).content\n",
    "\n",
    "    # Convert Raw CSV to Pandas Dataframe\n",
    "    csv_df = pd.read_csv(io.StringIO(pull_file.decode('utf-8')))\n",
    "\n",
    "    return csv_df"
   ]
  },
  {
   "cell_type": "code",
   "execution_count": 3,
   "metadata": {},
   "outputs": [],
   "source": [
    "# Pull CSV files from GitHub and Convert to Pandas Dataframe\n",
    "invoice_df = github_to_pandas(\n",
    "    \"https://raw.githubusercontent.com/nlee98/ADS-507-Data-Engineering/main/Invoices.csv\")\n",
    "\n",
    "orderleads_df = github_to_pandas(\n",
    "    \"https://raw.githubusercontent.com/nlee98/ADS-507-Data-Engineering/main/OrderLeads.csv\")\n",
    "\n",
    "salesteam_df = github_to_pandas(\n",
    "    \"https://raw.githubusercontent.com/nlee98/ADS-507-Data-Engineering/main/SalesTeam.csv\")"
   ]
  },
  {
   "cell_type": "markdown",
   "metadata": {},
   "source": [
    "### Data Pre-processing"
   ]
  },
  {
   "cell_type": "code",
   "execution_count": 4,
   "metadata": {
    "scrolled": false
   },
   "outputs": [
    {
     "name": "stdout",
     "output_type": "stream",
     "text": [
      "- Invoice Missing Values:\n",
      " Order Id        0\n",
      "Date            0\n",
      "Meal Id         0\n",
      "Company Id      0\n",
      "Date of Meal    0\n",
      "Participants    0\n",
      "Meal Price      0\n",
      "Type of Meal    0\n",
      "dtype: int64\n",
      "\n",
      "- Order Leads Missing Values:\n",
      " Order Id        0\n",
      "Company Id      0\n",
      "Company Name    0\n",
      "Date            0\n",
      "Order Value     0\n",
      "Converted       0\n",
      "dtype: int64\n",
      "\n",
      "- Sales Team Missing Values:\n",
      " Sales Rep       0\n",
      "Sales Rep Id    0\n",
      "Company Name    0\n",
      "Company Id      0\n",
      "dtype: int64\n"
     ]
    }
   ],
   "source": [
    "# Find missing values\n",
    "print(\"- Invoice Missing Values:\\n\", invoice_df.isnull().sum())\n",
    "print(\"\\n- Order Leads Missing Values:\\n\", orderleads_df.isnull().sum())\n",
    "print(\"\\n- Sales Team Missing Values:\\n\", salesteam_df.isnull().sum())"
   ]
  },
  {
   "cell_type": "code",
   "execution_count": 5,
   "metadata": {
    "scrolled": true
   },
   "outputs": [
    {
     "name": "stdout",
     "output_type": "stream",
     "text": [
      "- Invoice Data Types:\n",
      " Order Id        object\n",
      "Date            object\n",
      "Meal Id         object\n",
      "Company Id      object\n",
      "Date of Meal    object\n",
      "Participants    object\n",
      "Meal Price       int64\n",
      "Type of Meal    object\n",
      "dtype: object\n",
      "\n",
      "- Order Leads Data Types:\n",
      " Order Id        object\n",
      "Company Id      object\n",
      "Company Name    object\n",
      "Date            object\n",
      "Order Value      int64\n",
      "Converted        int64\n",
      "dtype: object\n",
      "\n",
      "- Sales Team Data Types:\n",
      " Sales Rep       object\n",
      "Sales Rep Id    object\n",
      "Company Name    object\n",
      "Company Id      object\n",
      "dtype: object\n"
     ]
    }
   ],
   "source": [
    "# Data types of all columns\n",
    "print(\"- Invoice Data Types:\\n\", invoice_df.dtypes)\n",
    "print(\"\\n- Order Leads Data Types:\\n\", orderleads_df.dtypes)\n",
    "print(\"\\n- Sales Team Data Types:\\n\", salesteam_df.dtypes)"
   ]
  },
  {
   "cell_type": "code",
   "execution_count": 6,
   "metadata": {},
   "outputs": [
    {
     "name": "stdout",
     "output_type": "stream",
     "text": [
      "- Invoice Duplicated Values: 0\n",
      "- Order Leads Duplicated Values: 0\n",
      "- Sales Team Duplicated Values: 0\n"
     ]
    }
   ],
   "source": [
    "# Duplicated data\n",
    "print(\"- Invoice Duplicated Values:\", invoice_df.duplicated().sum())\n",
    "print(\"- Order Leads Duplicated Values:\", orderleads_df.duplicated().sum())\n",
    "print(\"- Sales Team Duplicated Values:\", salesteam_df.duplicated().sum())"
   ]
  },
  {
   "cell_type": "markdown",
   "metadata": {},
   "source": [
    "***"
   ]
  },
  {
   "cell_type": "markdown",
   "metadata": {},
   "source": [
    "## Explore CSV Files"
   ]
  },
  {
   "cell_type": "markdown",
   "metadata": {},
   "source": [
    "### Invoice CSV"
   ]
  },
  {
   "cell_type": "code",
   "execution_count": 7,
   "metadata": {},
   "outputs": [
    {
     "data": {
      "text/html": [
       "<div>\n",
       "<style scoped>\n",
       "    .dataframe tbody tr th:only-of-type {\n",
       "        vertical-align: middle;\n",
       "    }\n",
       "\n",
       "    .dataframe tbody tr th {\n",
       "        vertical-align: top;\n",
       "    }\n",
       "\n",
       "    .dataframe thead th {\n",
       "        text-align: right;\n",
       "    }\n",
       "</style>\n",
       "<table border=\"1\" class=\"dataframe\">\n",
       "  <thead>\n",
       "    <tr style=\"text-align: right;\">\n",
       "      <th></th>\n",
       "      <th>Order Id</th>\n",
       "      <th>Date</th>\n",
       "      <th>Meal Id</th>\n",
       "      <th>Company Id</th>\n",
       "      <th>Date of Meal</th>\n",
       "      <th>Participants</th>\n",
       "      <th>Meal Price</th>\n",
       "      <th>Type of Meal</th>\n",
       "    </tr>\n",
       "  </thead>\n",
       "  <tbody>\n",
       "    <tr>\n",
       "      <th>0</th>\n",
       "      <td>839FKFW2LLX4LMBB</td>\n",
       "      <td>27-05-2016</td>\n",
       "      <td>INBUX904GIHI8YBD</td>\n",
       "      <td>LJKS5NK6788CYMUU</td>\n",
       "      <td>2016-05-31 07:00:00+02:00</td>\n",
       "      <td>['David Bishop']</td>\n",
       "      <td>469</td>\n",
       "      <td>Breakfast</td>\n",
       "    </tr>\n",
       "    <tr>\n",
       "      <th>1</th>\n",
       "      <td>97OX39BGVMHODLJM</td>\n",
       "      <td>27-09-2018</td>\n",
       "      <td>J0MMOOPP709DIDIE</td>\n",
       "      <td>LJKS5NK6788CYMUU</td>\n",
       "      <td>2018-10-01 20:00:00+02:00</td>\n",
       "      <td>['David Bishop']</td>\n",
       "      <td>22</td>\n",
       "      <td>Dinner</td>\n",
       "    </tr>\n",
       "    <tr>\n",
       "      <th>2</th>\n",
       "      <td>041ORQM5OIHTIU6L</td>\n",
       "      <td>24-08-2014</td>\n",
       "      <td>E4UJLQNCI16UX5CS</td>\n",
       "      <td>LJKS5NK6788CYMUU</td>\n",
       "      <td>2014-08-23 14:00:00+02:00</td>\n",
       "      <td>['Karen Stansell']</td>\n",
       "      <td>314</td>\n",
       "      <td>Lunch</td>\n",
       "    </tr>\n",
       "  </tbody>\n",
       "</table>\n",
       "</div>"
      ],
      "text/plain": [
       "           Order Id        Date           Meal Id        Company Id  \\\n",
       "0  839FKFW2LLX4LMBB  27-05-2016  INBUX904GIHI8YBD  LJKS5NK6788CYMUU   \n",
       "1  97OX39BGVMHODLJM  27-09-2018  J0MMOOPP709DIDIE  LJKS5NK6788CYMUU   \n",
       "2  041ORQM5OIHTIU6L  24-08-2014  E4UJLQNCI16UX5CS  LJKS5NK6788CYMUU   \n",
       "\n",
       "                Date of Meal        Participants  Meal Price Type of Meal  \n",
       "0  2016-05-31 07:00:00+02:00    ['David Bishop']         469    Breakfast  \n",
       "1  2018-10-01 20:00:00+02:00    ['David Bishop']          22       Dinner  \n",
       "2  2014-08-23 14:00:00+02:00  ['Karen Stansell']         314        Lunch  "
      ]
     },
     "execution_count": 7,
     "metadata": {},
     "output_type": "execute_result"
    }
   ],
   "source": [
    "invoice_df.head(3)"
   ]
  },
  {
   "cell_type": "markdown",
   "metadata": {},
   "source": [
    "#### Transformations\n",
    "* Add Underscores to each column name\n",
    "* Transform Date and Date of Meal to date/datetime data types\n",
    "* Time of day column\n",
    "* Number of participants column"
   ]
  },
  {
   "cell_type": "code",
   "execution_count": 8,
   "metadata": {},
   "outputs": [],
   "source": [
    "# Replace spaces with underscores in all dataframe column names\n",
    "invoice_df.columns = invoice_df.columns.str.replace(\" \", \"_\")\n",
    "orderleads_df.columns = orderleads_df.columns.str.replace(\" \", \"_\")\n",
    "salesteam_df.columns = salesteam_df.columns.str.replace(\" \", \"_\")"
   ]
  },
  {
   "cell_type": "code",
   "execution_count": 9,
   "metadata": {},
   "outputs": [],
   "source": [
    "# Date to Date (\"d-m-Y\")\n",
    "invoice_df[\"Date\"] = pd.to_datetime(\n",
    "    invoice_df[\"Date\"], format='%d-%m-%Y')"
   ]
  },
  {
   "cell_type": "code",
   "execution_count": 10,
   "metadata": {},
   "outputs": [],
   "source": [
    "# Drop \"+HH:MM:SS\" to make all uniform to UTC timezone\n",
    "invoice_df[\"Date_of_Meal\"] = invoice_df[\"Date_of_Meal\"].apply(\n",
    "    lambda x: x.split(\"+\")[0]\n",
    ")\n",
    "\n",
    "# Convert Date_of_Meal to Datetime format\n",
    "invoice_df[\"Date_of_Meal\"] = pd.to_datetime(\n",
    "    invoice_df[\"Date_of_Meal\"],\n",
    "    format = \"%Y-%m-%d %H:%M:%S\"\n",
    ")"
   ]
  },
  {
   "cell_type": "code",
   "execution_count": 11,
   "metadata": {},
   "outputs": [],
   "source": [
    "# Convert Date_of_Meal to Datetime format\n",
    "invoice_df[\"Date_of_Meal\"] = pd.to_datetime(\n",
    "    invoice_df[\"Date_of_Meal\"],\n",
    "    format = \"%Y-%m-%d %H:%M:%S\"\n",
    ")"
   ]
  },
  {
   "cell_type": "code",
   "execution_count": 12,
   "metadata": {},
   "outputs": [],
   "source": [
    "# Function defining hour of the day with the time of day\n",
    "def time_of_day(x):\n",
    "    day_hour = x.hour\n",
    "    if (day_hour >= 5) and (day_hour <= 8): # 5am - 8am\n",
    "        return \"Early Morning\"\n",
    "    elif (day_hour > 8) and (day_hour <= 12): # 9am - 12pm\n",
    "        return \"Late Morning\"\n",
    "    elif (day_hour > 12) and (day_hour <= 15): # 1pm - 3pm\n",
    "        return \"Early Afternoon\"\n",
    "    elif (day_hour > 15) and (day_hour <= 19): # 4pm - 7pm\n",
    "        return \"Evening\"\n",
    "    elif (day_hour > 19) and (day_hour <= 23): # 8pm - 11pm\n",
    "        return \"Night\"\n",
    "    else: # 12am - 4am\n",
    "        return \"Late Night\""
   ]
  },
  {
   "cell_type": "code",
   "execution_count": 13,
   "metadata": {},
   "outputs": [],
   "source": [
    "# Apply time_of_day function to Date_of_Meal column\n",
    "\n",
    "invoice_df[\"Part_of_Day\"] = invoice_df[\"Date_of_Meal\"].apply(time_of_day)"
   ]
  },
  {
   "cell_type": "code",
   "execution_count": 14,
   "metadata": {
    "scrolled": true
   },
   "outputs": [
    {
     "data": {
      "text/html": [
       "<div>\n",
       "<style scoped>\n",
       "    .dataframe tbody tr th:only-of-type {\n",
       "        vertical-align: middle;\n",
       "    }\n",
       "\n",
       "    .dataframe tbody tr th {\n",
       "        vertical-align: top;\n",
       "    }\n",
       "\n",
       "    .dataframe thead th {\n",
       "        text-align: right;\n",
       "    }\n",
       "</style>\n",
       "<table border=\"1\" class=\"dataframe\">\n",
       "  <thead>\n",
       "    <tr style=\"text-align: right;\">\n",
       "      <th></th>\n",
       "      <th>Order_Id</th>\n",
       "      <th>Date</th>\n",
       "      <th>Meal_Id</th>\n",
       "      <th>Company_Id</th>\n",
       "      <th>Date_of_Meal</th>\n",
       "      <th>Participants</th>\n",
       "      <th>Meal_Price</th>\n",
       "      <th>Type_of_Meal</th>\n",
       "      <th>Part_of_Day</th>\n",
       "      <th>Number_of_Participants</th>\n",
       "    </tr>\n",
       "  </thead>\n",
       "  <tbody>\n",
       "    <tr>\n",
       "      <th>0</th>\n",
       "      <td>839FKFW2LLX4LMBB</td>\n",
       "      <td>2016-05-27</td>\n",
       "      <td>INBUX904GIHI8YBD</td>\n",
       "      <td>LJKS5NK6788CYMUU</td>\n",
       "      <td>2016-05-31 07:00:00</td>\n",
       "      <td>['David Bishop']</td>\n",
       "      <td>469</td>\n",
       "      <td>Breakfast</td>\n",
       "      <td>Early Morning</td>\n",
       "      <td>1</td>\n",
       "    </tr>\n",
       "    <tr>\n",
       "      <th>1</th>\n",
       "      <td>97OX39BGVMHODLJM</td>\n",
       "      <td>2018-09-27</td>\n",
       "      <td>J0MMOOPP709DIDIE</td>\n",
       "      <td>LJKS5NK6788CYMUU</td>\n",
       "      <td>2018-10-01 20:00:00</td>\n",
       "      <td>['David Bishop']</td>\n",
       "      <td>22</td>\n",
       "      <td>Dinner</td>\n",
       "      <td>Night</td>\n",
       "      <td>1</td>\n",
       "    </tr>\n",
       "    <tr>\n",
       "      <th>2</th>\n",
       "      <td>041ORQM5OIHTIU6L</td>\n",
       "      <td>2014-08-24</td>\n",
       "      <td>E4UJLQNCI16UX5CS</td>\n",
       "      <td>LJKS5NK6788CYMUU</td>\n",
       "      <td>2014-08-23 14:00:00</td>\n",
       "      <td>['Karen Stansell']</td>\n",
       "      <td>314</td>\n",
       "      <td>Lunch</td>\n",
       "      <td>Early Afternoon</td>\n",
       "      <td>1</td>\n",
       "    </tr>\n",
       "    <tr>\n",
       "      <th>3</th>\n",
       "      <td>YT796QI18WNGZ7ZJ</td>\n",
       "      <td>2014-04-12</td>\n",
       "      <td>C9SDFHF7553BE247</td>\n",
       "      <td>LJKS5NK6788CYMUU</td>\n",
       "      <td>2014-04-07 21:00:00</td>\n",
       "      <td>['Addie Patino']</td>\n",
       "      <td>438</td>\n",
       "      <td>Dinner</td>\n",
       "      <td>Night</td>\n",
       "      <td>1</td>\n",
       "    </tr>\n",
       "    <tr>\n",
       "      <th>4</th>\n",
       "      <td>6YLROQT27B6HRF4E</td>\n",
       "      <td>2015-07-28</td>\n",
       "      <td>48EQXS6IHYNZDDZ5</td>\n",
       "      <td>LJKS5NK6788CYMUU</td>\n",
       "      <td>2015-07-27 14:00:00</td>\n",
       "      <td>['Addie Patino' 'Susan Guerrero']</td>\n",
       "      <td>690</td>\n",
       "      <td>Lunch</td>\n",
       "      <td>Early Afternoon</td>\n",
       "      <td>2</td>\n",
       "    </tr>\n",
       "  </tbody>\n",
       "</table>\n",
       "</div>"
      ],
      "text/plain": [
       "           Order_Id       Date           Meal_Id        Company_Id  \\\n",
       "0  839FKFW2LLX4LMBB 2016-05-27  INBUX904GIHI8YBD  LJKS5NK6788CYMUU   \n",
       "1  97OX39BGVMHODLJM 2018-09-27  J0MMOOPP709DIDIE  LJKS5NK6788CYMUU   \n",
       "2  041ORQM5OIHTIU6L 2014-08-24  E4UJLQNCI16UX5CS  LJKS5NK6788CYMUU   \n",
       "3  YT796QI18WNGZ7ZJ 2014-04-12  C9SDFHF7553BE247  LJKS5NK6788CYMUU   \n",
       "4  6YLROQT27B6HRF4E 2015-07-28  48EQXS6IHYNZDDZ5  LJKS5NK6788CYMUU   \n",
       "\n",
       "         Date_of_Meal                       Participants  Meal_Price  \\\n",
       "0 2016-05-31 07:00:00                   ['David Bishop']         469   \n",
       "1 2018-10-01 20:00:00                   ['David Bishop']          22   \n",
       "2 2014-08-23 14:00:00                 ['Karen Stansell']         314   \n",
       "3 2014-04-07 21:00:00                   ['Addie Patino']         438   \n",
       "4 2015-07-27 14:00:00  ['Addie Patino' 'Susan Guerrero']         690   \n",
       "\n",
       "  Type_of_Meal      Part_of_Day  Number_of_Participants  \n",
       "0    Breakfast    Early Morning                       1  \n",
       "1       Dinner            Night                       1  \n",
       "2        Lunch  Early Afternoon                       1  \n",
       "3       Dinner            Night                       1  \n",
       "4        Lunch  Early Afternoon                       2  "
      ]
     },
     "execution_count": 14,
     "metadata": {},
     "output_type": "execute_result"
    }
   ],
   "source": [
    "# Add a field to count the number of participants\n",
    "invoice_df['Number_of_Participants'] = invoice_df['Participants'].apply(lambda x: x.count(\"'\")/2)\n",
    "invoice_df['Number_of_Participants'] = invoice_df['Number_of_Participants'].astype(int)\n",
    "\n",
    "invoice_df.head(5)"
   ]
  },
  {
   "cell_type": "markdown",
   "metadata": {},
   "source": [
    "### Customer-Order Table\n",
    "Connect the customer id to each order id the customer placed. This table will link the customer information to the invoice information."
   ]
  },
  {
   "cell_type": "code",
   "execution_count": 15,
   "metadata": {},
   "outputs": [
    {
     "data": {
      "text/html": [
       "<div>\n",
       "<style scoped>\n",
       "    .dataframe tbody tr th:only-of-type {\n",
       "        vertical-align: middle;\n",
       "    }\n",
       "\n",
       "    .dataframe tbody tr th {\n",
       "        vertical-align: top;\n",
       "    }\n",
       "\n",
       "    .dataframe thead th {\n",
       "        text-align: right;\n",
       "    }\n",
       "</style>\n",
       "<table border=\"1\" class=\"dataframe\">\n",
       "  <thead>\n",
       "    <tr style=\"text-align: right;\">\n",
       "      <th></th>\n",
       "      <th>Order_Id</th>\n",
       "      <th>Participants</th>\n",
       "      <th>Customer_Id</th>\n",
       "    </tr>\n",
       "  </thead>\n",
       "  <tbody>\n",
       "    <tr>\n",
       "      <th>0</th>\n",
       "      <td>839FKFW2LLX4LMBB</td>\n",
       "      <td>David Bishop</td>\n",
       "      <td>1</td>\n",
       "    </tr>\n",
       "    <tr>\n",
       "      <th>1</th>\n",
       "      <td>97OX39BGVMHODLJM</td>\n",
       "      <td>David Bishop</td>\n",
       "      <td>1</td>\n",
       "    </tr>\n",
       "    <tr>\n",
       "      <th>2</th>\n",
       "      <td>041ORQM5OIHTIU6L</td>\n",
       "      <td>Karen Stansell</td>\n",
       "      <td>2</td>\n",
       "    </tr>\n",
       "    <tr>\n",
       "      <th>3</th>\n",
       "      <td>YT796QI18WNGZ7ZJ</td>\n",
       "      <td>Addie Patino</td>\n",
       "      <td>3</td>\n",
       "    </tr>\n",
       "    <tr>\n",
       "      <th>4</th>\n",
       "      <td>6YLROQT27B6HRF4E</td>\n",
       "      <td>Addie Patino</td>\n",
       "      <td>3</td>\n",
       "    </tr>\n",
       "    <tr>\n",
       "      <th>4</th>\n",
       "      <td>6YLROQT27B6HRF4E</td>\n",
       "      <td>Susan Guerrero</td>\n",
       "      <td>4</td>\n",
       "    </tr>\n",
       "    <tr>\n",
       "      <th>5</th>\n",
       "      <td>AT0R4DFYYAFOC88Q</td>\n",
       "      <td>David Bishop</td>\n",
       "      <td>1</td>\n",
       "    </tr>\n",
       "    <tr>\n",
       "      <th>5</th>\n",
       "      <td>AT0R4DFYYAFOC88Q</td>\n",
       "      <td>Susan Guerrero</td>\n",
       "      <td>4</td>\n",
       "    </tr>\n",
       "    <tr>\n",
       "      <th>5</th>\n",
       "      <td>AT0R4DFYYAFOC88Q</td>\n",
       "      <td>Karen Stansell</td>\n",
       "      <td>2</td>\n",
       "    </tr>\n",
       "  </tbody>\n",
       "</table>\n",
       "</div>"
      ],
      "text/plain": [
       "           Order_Id    Participants  Customer_Id\n",
       "0  839FKFW2LLX4LMBB    David Bishop            1\n",
       "1  97OX39BGVMHODLJM    David Bishop            1\n",
       "2  041ORQM5OIHTIU6L  Karen Stansell            2\n",
       "3  YT796QI18WNGZ7ZJ    Addie Patino            3\n",
       "4  6YLROQT27B6HRF4E    Addie Patino            3\n",
       "4  6YLROQT27B6HRF4E  Susan Guerrero            4\n",
       "5  AT0R4DFYYAFOC88Q    David Bishop            1\n",
       "5  AT0R4DFYYAFOC88Q  Susan Guerrero            4\n",
       "5  AT0R4DFYYAFOC88Q  Karen Stansell            2"
      ]
     },
     "execution_count": 15,
     "metadata": {},
     "output_type": "execute_result"
    }
   ],
   "source": [
    "# Find all the occurrences of customer names then explode to convert values in lists to rows\n",
    "cust = invoice_df['Participants'].str.findall(r\"'(.*?)'\").explode()\n",
    "\n",
    "# Join with order id \n",
    "cust_order_df = invoice_df[['Order_Id']].join(cust)\n",
    "\n",
    "# Factorize to encode the unique values in participants\n",
    "cust_order_df['Customer_Id'] = cust_order_df['Participants'].factorize()[0] + 1\n",
    "\n",
    "cust_order_df.head(9)"
   ]
  },
  {
   "cell_type": "markdown",
   "metadata": {},
   "source": [
    "### Order Leads CSV\n",
    "* Converted Column - Whether or not a order was converted into a sale"
   ]
  },
  {
   "cell_type": "code",
   "execution_count": 16,
   "metadata": {},
   "outputs": [
    {
     "data": {
      "text/html": [
       "<div>\n",
       "<style scoped>\n",
       "    .dataframe tbody tr th:only-of-type {\n",
       "        vertical-align: middle;\n",
       "    }\n",
       "\n",
       "    .dataframe tbody tr th {\n",
       "        vertical-align: top;\n",
       "    }\n",
       "\n",
       "    .dataframe thead th {\n",
       "        text-align: right;\n",
       "    }\n",
       "</style>\n",
       "<table border=\"1\" class=\"dataframe\">\n",
       "  <thead>\n",
       "    <tr style=\"text-align: right;\">\n",
       "      <th></th>\n",
       "      <th>Order_Id</th>\n",
       "      <th>Company_Id</th>\n",
       "      <th>Company_Name</th>\n",
       "      <th>Date</th>\n",
       "      <th>Order_Value</th>\n",
       "      <th>Converted</th>\n",
       "    </tr>\n",
       "  </thead>\n",
       "  <tbody>\n",
       "    <tr>\n",
       "      <th>0</th>\n",
       "      <td>80EYLOKP9E762WKG</td>\n",
       "      <td>LJKS5NK6788CYMUU</td>\n",
       "      <td>Chimera-Chasing Casbah</td>\n",
       "      <td>18-02-2017</td>\n",
       "      <td>4875</td>\n",
       "      <td>1</td>\n",
       "    </tr>\n",
       "    <tr>\n",
       "      <th>1</th>\n",
       "      <td>TLEXR1HZWTUTBHPB</td>\n",
       "      <td>LJKS5NK6788CYMUU</td>\n",
       "      <td>Chimera-Chasing Casbah</td>\n",
       "      <td>30-07-2015</td>\n",
       "      <td>8425</td>\n",
       "      <td>0</td>\n",
       "    </tr>\n",
       "    <tr>\n",
       "      <th>2</th>\n",
       "      <td>839FKFW2LLX4LMBB</td>\n",
       "      <td>LJKS5NK6788CYMUU</td>\n",
       "      <td>Chimera-Chasing Casbah</td>\n",
       "      <td>27-05-2016</td>\n",
       "      <td>4837</td>\n",
       "      <td>0</td>\n",
       "    </tr>\n",
       "  </tbody>\n",
       "</table>\n",
       "</div>"
      ],
      "text/plain": [
       "           Order_Id        Company_Id            Company_Name        Date  \\\n",
       "0  80EYLOKP9E762WKG  LJKS5NK6788CYMUU  Chimera-Chasing Casbah  18-02-2017   \n",
       "1  TLEXR1HZWTUTBHPB  LJKS5NK6788CYMUU  Chimera-Chasing Casbah  30-07-2015   \n",
       "2  839FKFW2LLX4LMBB  LJKS5NK6788CYMUU  Chimera-Chasing Casbah  27-05-2016   \n",
       "\n",
       "   Order_Value  Converted  \n",
       "0         4875          1  \n",
       "1         8425          0  \n",
       "2         4837          0  "
      ]
     },
     "execution_count": 16,
     "metadata": {},
     "output_type": "execute_result"
    }
   ],
   "source": [
    "orderleads_df.head(3)"
   ]
  },
  {
   "cell_type": "markdown",
   "metadata": {},
   "source": [
    "### Sales Team CSV"
   ]
  },
  {
   "cell_type": "code",
   "execution_count": 17,
   "metadata": {},
   "outputs": [
    {
     "data": {
      "text/html": [
       "<div>\n",
       "<style scoped>\n",
       "    .dataframe tbody tr th:only-of-type {\n",
       "        vertical-align: middle;\n",
       "    }\n",
       "\n",
       "    .dataframe tbody tr th {\n",
       "        vertical-align: top;\n",
       "    }\n",
       "\n",
       "    .dataframe thead th {\n",
       "        text-align: right;\n",
       "    }\n",
       "</style>\n",
       "<table border=\"1\" class=\"dataframe\">\n",
       "  <thead>\n",
       "    <tr style=\"text-align: right;\">\n",
       "      <th></th>\n",
       "      <th>Sales_Rep</th>\n",
       "      <th>Sales_Rep_Id</th>\n",
       "      <th>Company_Name</th>\n",
       "      <th>Company_Id</th>\n",
       "    </tr>\n",
       "  </thead>\n",
       "  <tbody>\n",
       "    <tr>\n",
       "      <th>0</th>\n",
       "      <td>Jessie Mcallister</td>\n",
       "      <td>97UNNAT790E0WM4N</td>\n",
       "      <td>Chimera-Chasing Casbah</td>\n",
       "      <td>LJKS5NK6788CYMUU</td>\n",
       "    </tr>\n",
       "    <tr>\n",
       "      <th>1</th>\n",
       "      <td>Jessie Mcallister</td>\n",
       "      <td>97UNNAT790E0WM4N</td>\n",
       "      <td>Tangential Sheds</td>\n",
       "      <td>36MFTZOYMTAJP1RK</td>\n",
       "    </tr>\n",
       "    <tr>\n",
       "      <th>2</th>\n",
       "      <td>Jessie Mcallister</td>\n",
       "      <td>97UNNAT790E0WM4N</td>\n",
       "      <td>Two-Mile Grab</td>\n",
       "      <td>H3JRC7XX7WJAD4ZO</td>\n",
       "    </tr>\n",
       "  </tbody>\n",
       "</table>\n",
       "</div>"
      ],
      "text/plain": [
       "           Sales_Rep      Sales_Rep_Id            Company_Name  \\\n",
       "0  Jessie Mcallister  97UNNAT790E0WM4N  Chimera-Chasing Casbah   \n",
       "1  Jessie Mcallister  97UNNAT790E0WM4N        Tangential Sheds   \n",
       "2  Jessie Mcallister  97UNNAT790E0WM4N           Two-Mile Grab   \n",
       "\n",
       "         Company_Id  \n",
       "0  LJKS5NK6788CYMUU  \n",
       "1  36MFTZOYMTAJP1RK  \n",
       "2  H3JRC7XX7WJAD4ZO  "
      ]
     },
     "execution_count": 17,
     "metadata": {},
     "output_type": "execute_result"
    }
   ],
   "source": [
    "salesteam_df.head(3)"
   ]
  },
  {
   "cell_type": "markdown",
   "id": "de343d32",
   "metadata": {},
   "source": [
    "***"
   ]
  },
  {
   "cell_type": "markdown",
   "metadata": {},
   "source": [
    "## Connection to MySQL Server"
   ]
  },
  {
   "cell_type": "code",
   "execution_count": 18,
   "metadata": {},
   "outputs": [],
   "source": [
    "# Manually Login to MySQL\n",
    "mysql_username = str(input(\"Enter MySQL Username: \"))\n",
    "mysql_password = str(input(\"Enter MySQL Password: \"))\n",
    "\n",
    "mysql_conn = pymysql.connect(\n",
    "    host = \"localhost\",\n",
    "    port = int(3306),\n",
    "    user = mysql_username,\n",
    "    passwd = mysql_password\n",
    ")"
   ]
  },
  {
   "cell_type": "markdown",
   "metadata": {},
   "source": [
    "### Create Supermarket Database - if it does not already exist"
   ]
  },
  {
   "cell_type": "code",
   "execution_count": 19,
   "metadata": {},
   "outputs": [],
   "source": [
    "# Create ADS-507_Supermarket MySQL Database\n",
    "mysql_conn.cursor().execute(\n",
    "    \"\"\"\n",
    "    CREATE DATABASE IF NOT EXISTS ADS_507_Supermarket;\n",
    "    \"\"\"\n",
    ")\n",
    "\n",
    "# Navigate to Supermarket Database\n",
    "mysql_conn.select_db(\"ADS_507_Supermarket\")"
   ]
  },
  {
   "cell_type": "code",
   "execution_count": 48,
   "metadata": {},
   "outputs": [],
   "source": [
    "create_invoice_table = \"\"\"\n",
    "CREATE TABLE IF NOT EXISTS invoice(\n",
    "    Order_id TINYINT,\n",
    "    Date DATE, \n",
    "    Meal_id TINYINT, \n",
    "    Company_id TINYINT,\n",
    "    Date_of_Meal DATETIME,\n",
    "    Participants VARCHAR(255),\n",
    "    Meal_Price SMALLINT,\n",
    "    Type_of_Meal ENUM('Breakfast', 'Lunch', 'Dinner'),\n",
    "    Part_of_Day ENUM('Early Morning', 'Late Morning', 'Early Afternoon', 'Night', 'Late Night'),\n",
    "    Number_of_Participants TINYINT,\n",
    "    PRIMARY KEY (Order_id)\n",
    "   )\n",
    "\"\"\"\n",
    "\n",
    "\n",
    "mysql_conn.cursor().execute(create_invoice_table);"
   ]
  },
  {
   "cell_type": "code",
   "execution_count": 52,
   "metadata": {},
   "outputs": [],
   "source": [
    "create_order_table = \"\"\"\n",
    "    CREATE TABLE IF NOT EXISTS orders(\n",
    "        Order_id TINYINT,\n",
    "        Company_id TINYINT,\n",
    "        Company_Name VARCHAR(255),\n",
    "        Date DATE,\n",
    "        Order_Value SMALLINT,\n",
    "        Converted TINYINT,\n",
    "        PRIMARY KEY (Order_id, Company_id)\n",
    "    )\n",
    "\"\"\"\n",
    "\n",
    "mysql_conn.cursor().execute(create_order_table);"
   ]
  },
  {
   "cell_type": "code",
   "execution_count": 56,
   "metadata": {},
   "outputs": [],
   "source": [
    "create_salesteam_table = \"\"\"\n",
    "    CREATE TABLE IF NOT EXISTS salesteam(\n",
    "        Sales_Rep VARCHAR(255),\n",
    "        Sales_Rep_id TINYINT,\n",
    "        Company_Name VARCHAR(255),\n",
    "        Company_id TINYINT,\n",
    "        PRIMARY KEY (Sales_Rep_id)\n",
    "    )\n",
    "\"\"\"\n",
    "\n",
    "mysql_conn.cursor().execute(create_salesteam_table);"
   ]
  },
  {
   "cell_type": "code",
   "execution_count": 45,
   "metadata": {},
   "outputs": [],
   "source": [
    "# Create Engine to write to SQL table\n",
    "engine = create_engine(\n",
    "    \"mysql+pymysql://{user}:{pw}@{host}/{db}\".format(\n",
    "        host = \"localhost\", \n",
    "        db = \"ADS_507_Supermarket\", \n",
    "        user = mysql_username, \n",
    "        pw = mysql_password))"
   ]
  },
  {
   "attachments": {},
   "cell_type": "markdown",
   "metadata": {},
   "source": [
    "## Upload dataframes as tables into MySQL\n",
    "* Invoice\n",
    "* Orders\n",
    "* Sales Lead\n",
    "* Customer (cust_order_df)"
   ]
  },
  {
   "cell_type": "code",
   "execution_count": 57,
   "metadata": {},
   "outputs": [],
   "source": [
    "# If CSV is updated, the whole table is re-written\n",
    "def insert_table(df_name, sql_table):\n",
    "    df_name.to_sql(sql_table, \n",
    "                  engine, \n",
    "                  index = False, \n",
    "                  if_exists = 'replace')\n",
    "    \n",
    "#  Convert Pandas dataframes to SQL tables\n",
    "insert_table(invoice_df, \"invoice\")\n",
    "insert_table(orderleads_df, \"orders\")\n",
    "insert_table(salesteam_df, \"salesteam\")"
   ]
  }
 ],
 "metadata": {
  "kernelspec": {
   "display_name": "Python 3 (ipykernel)",
   "language": "python",
   "name": "python3"
  },
  "language_info": {
   "codemirror_mode": {
    "name": "ipython",
    "version": 3
   },
   "file_extension": ".py",
   "mimetype": "text/x-python",
   "name": "python",
   "nbconvert_exporter": "python",
   "pygments_lexer": "ipython3",
   "version": "3.11.1"
  },
  "vscode": {
   "interpreter": {
    "hash": "54be5dcaef3355b8195a69b65ef5b9c5e7ba5f5a12795eca27b7fa46b0f134bb"
   }
  }
 },
 "nbformat": 4,
 "nbformat_minor": 2
}
