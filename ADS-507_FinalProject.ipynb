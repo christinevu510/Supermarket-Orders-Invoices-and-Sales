{
 "cells": [
  {
   "attachments": {},
   "cell_type": "markdown",
   "metadata": {},
   "source": [
    "# ADS-507 Final Project\n",
    "Joel Day, Nicholas Lee, and Christine Vu"
   ]
  },
  {
   "cell_type": "code",
   "execution_count": 13,
   "metadata": {},
   "outputs": [],
   "source": [
    "# Packages #\n",
    "\n",
    "import numpy as np\n",
    "import pandas as pd\n",
    "import matplotlib.pyplot as plt\n",
    "\n",
    "import pymysql\n",
    "import requests\n",
    "import io\n",
    "import os\n",
    "\n",
    "import warnings\n",
    "warnings.filterwarnings(\"ignore\")"
   ]
  },
  {
   "attachments": {},
   "cell_type": "markdown",
   "metadata": {},
   "source": [
    "Import in CSV files"
   ]
  },
  {
   "cell_type": "code",
   "execution_count": 2,
   "metadata": {},
   "outputs": [],
   "source": [
    "# Function to Pull Raw CSV from GitHub and Convert to Pandas Dataframe Object\n",
    "\n",
    "def github_to_pandas(raw_git_url):\n",
    "    # Pull Raw CSV File from GitHub\n",
    "    file_name = str(raw_git_url)\n",
    "    pull_file = requests.get(file_name).content\n",
    "\n",
    "    # Convert Raw CSV to Pandas Dataframe\n",
    "    csv_df = pd.read_csv(io.StringIO(pull_file.decode('utf-8')))\n",
    "\n",
    "    return csv_df"
   ]
  },
  {
   "cell_type": "code",
   "execution_count": 5,
   "metadata": {},
   "outputs": [],
   "source": [
    "# Pull CSV files from GitHub and Convert to Pandas Dataframe\n",
    "invoice_df = github_to_pandas(\n",
    "    \"https://raw.githubusercontent.com/nlee98/ADS-507-Data-Engineering/main/Invoices.csv\")\n",
    "\n",
    "orderleads_df = github_to_pandas(\n",
    "    \"https://raw.githubusercontent.com/nlee98/ADS-507-Data-Engineering/main/OrderLeads.csv\"\n",
    ")\n",
    "\n",
    "salesteam_df = github_to_pandas(\n",
    "    \"https://raw.githubusercontent.com/nlee98/ADS-507-Data-Engineering/main/SalesTeam.csv\"\n",
    ")"
   ]
  },
  {
   "attachments": {},
   "cell_type": "markdown",
   "metadata": {},
   "source": [
    "## Connection to MySQL Server"
   ]
  },
  {
   "cell_type": "code",
   "execution_count": 31,
   "metadata": {},
   "outputs": [],
   "source": [
    "# Manually Login to MySQL\n",
    "mysql_username = str(input(\"Enter MySQL Username: \"))\n",
    "mysql_password = str(input(\"Enter MySQL Password: \"))\n",
    "\n",
    "mysql_conn = pymysql.connect(\n",
    "    host = \"localhost\",\n",
    "    port = int(3306),\n",
    "    user = mysql_username,\n",
    "    passwd = mysql_password\n",
    ")\n"
   ]
  }
 ],
 "metadata": {
  "kernelspec": {
   "display_name": "Python 3",
   "language": "python",
   "name": "python3"
  },
  "language_info": {
   "codemirror_mode": {
    "name": "ipython",
    "version": 3
   },
   "file_extension": ".py",
   "mimetype": "text/x-python",
   "name": "python",
   "nbconvert_exporter": "python",
   "pygments_lexer": "ipython3",
   "version": "3.11.1"
  },
  "orig_nbformat": 4,
  "vscode": {
   "interpreter": {
    "hash": "54be5dcaef3355b8195a69b65ef5b9c5e7ba5f5a12795eca27b7fa46b0f134bb"
   }
  }
 },
 "nbformat": 4,
 "nbformat_minor": 2
}
