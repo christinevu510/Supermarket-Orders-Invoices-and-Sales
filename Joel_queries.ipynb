{
 "cells": [
  {
   "cell_type": "markdown",
   "id": "978d0f16",
   "metadata": {},
   "source": [
    "# Total invoices by Year \n",
    "SELECT DISTINCT EXTRACT(YEAR FROM Date) Year, COUNT(*) Total_Invoices FROM invoice GROUP BY Year;"
   ]
  },
  {
   "cell_type": "markdown",
   "id": "e389aabe",
   "metadata": {},
   "source": [
    "# Total Amount of Sales Converted \n",
    "SELECT Converted, Count(*)  FROM orders GROUP BY Converted;"
   ]
  },
  {
   "cell_type": "markdown",
   "id": "c0ad3d6c",
   "metadata": {},
   "source": [
    "# Percent of orders converted into a sale per Campany \n",
    "SELECT Company_Name, ROUND(((SUM(Converted)/Count(*))*100), 1) Percent_Converted FROM orders GROUP BY Company_Name;"
   ]
  },
  {
   "cell_type": "code",
   "execution_count": null,
   "id": "aced344b",
   "metadata": {},
   "outputs": [],
   "source": []
  }
 ],
 "metadata": {
  "kernelspec": {
   "display_name": "Python 3 (ipykernel)",
   "language": "python",
   "name": "python3"
  },
  "language_info": {
   "codemirror_mode": {
    "name": "ipython",
    "version": 3
   },
   "file_extension": ".py",
   "mimetype": "text/x-python",
   "name": "python",
   "nbconvert_exporter": "python",
   "pygments_lexer": "ipython3",
   "version": "3.11.0"
  }
 },
 "nbformat": 4,
 "nbformat_minor": 5
}
